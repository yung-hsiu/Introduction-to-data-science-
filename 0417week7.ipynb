{
  "nbformat": 4,
  "nbformat_minor": 0,
  "metadata": {
    "colab": {
      "name": "0417week7.ipynb",
      "provenance": [],
      "authorship_tag": "ABX9TyMeLYkk5eGM+Ptiq4yOBtPH",
      "include_colab_link": true
    },
    "kernelspec": {
      "name": "python3",
      "display_name": "Python 3"
    }
  },
  "cells": [
    {
      "cell_type": "markdown",
      "metadata": {
        "id": "view-in-github",
        "colab_type": "text"
      },
      "source": [
        "<a href=\"https://colab.research.google.com/github/yung-hsiu/Introduction-to-data-science-/blob/master/0417week7.ipynb\" target=\"_parent\"><img src=\"https://colab.research.google.com/assets/colab-badge.svg\" alt=\"Open In Colab\"/></a>"
      ]
    },
    {
      "cell_type": "code",
      "metadata": {
        "id": "Rt6BE1XS1WBO",
        "colab_type": "code",
        "colab": {
          "base_uri": "https://localhost:8080/",
          "height": 51
        },
        "outputId": "1d3c4dee-9a19-4082-85b6-4c3094f67892"
      },
      "source": [
        "last_id_disit=input(\"請輸入身分字號的尾數\")\n",
        "last_id_disit=int(last_id_disit)  #文字換成整數\n",
        "remainder=last_id_disit%2\n",
        "#條件判斷(begin)\n",
        "if remainder ==0:\n",
        "  ans =\"偶數\"\n",
        "else:\n",
        "  ans=\"奇數\"\n",
        "#條件判斷(and)\n",
        "print(\"身分字號尾數除2的餘數為:{},因此為:{}\".format(remainder,ans))"
      ],
      "execution_count": 5,
      "outputs": [
        {
          "output_type": "stream",
          "text": [
            "請輸入身分字號的尾數2\n",
            "身分字號尾數除2的餘數為:0,因此為:偶數\n"
          ],
          "name": "stdout"
        }
      ]
    },
    {
      "cell_type": "code",
      "metadata": {
        "id": "uC7VHBxVxrEb",
        "colab_type": "code",
        "colab": {
          "base_uri": "https://localhost:8080/",
          "height": 459
        },
        "outputId": "dfc2d092-3f49-4d5a-edfa-27ae0c5e6a44"
      },
      "source": [
        "#while迴圈(begin)\n",
        "i=65\n",
        "while i <=90:  #bool\n",
        "  print(\"character:{},order:{},binary:()\".format(chr(i),i,bin(i)))\n",
        "  i+=1"
      ],
      "execution_count": 1,
      "outputs": [
        {
          "output_type": "stream",
          "text": [
            "character:A,order:65,binary:()\n",
            "character:B,order:66,binary:()\n",
            "character:C,order:67,binary:()\n",
            "character:D,order:68,binary:()\n",
            "character:E,order:69,binary:()\n",
            "character:F,order:70,binary:()\n",
            "character:G,order:71,binary:()\n",
            "character:H,order:72,binary:()\n",
            "character:I,order:73,binary:()\n",
            "character:J,order:74,binary:()\n",
            "character:K,order:75,binary:()\n",
            "character:L,order:76,binary:()\n",
            "character:M,order:77,binary:()\n",
            "character:N,order:78,binary:()\n",
            "character:O,order:79,binary:()\n",
            "character:P,order:80,binary:()\n",
            "character:Q,order:81,binary:()\n",
            "character:R,order:82,binary:()\n",
            "character:S,order:83,binary:()\n",
            "character:T,order:84,binary:()\n",
            "character:U,order:85,binary:()\n",
            "character:V,order:86,binary:()\n",
            "character:W,order:87,binary:()\n",
            "character:X,order:88,binary:()\n",
            "character:Y,order:89,binary:()\n",
            "character:Z,order:90,binary:()\n"
          ],
          "name": "stdout"
        }
      ]
    },
    {
      "cell_type": "code",
      "metadata": {
        "id": "fZBWHIpJ1xg9",
        "colab_type": "code",
        "colab": {
          "base_uri": "https://localhost:8080/",
          "height": 51
        },
        "outputId": "eef22acb-6966-4c3e-a7a3-e7508b111bdd"
      },
      "source": [
        "if True:\n",
        "  print(123)\n",
        "print(321)\n"
      ],
      "execution_count": 3,
      "outputs": [
        {
          "output_type": "stream",
          "text": [
            "123\n",
            "321\n"
          ],
          "name": "stdout"
        }
      ]
    },
    {
      "cell_type": "code",
      "metadata": {
        "id": "EosEi3uO2Lh6",
        "colab_type": "code",
        "colab": {
          "base_uri": "https://localhost:8080/",
          "height": 34
        },
        "outputId": "423bcd57-492a-43d1-a4c1-ca231601c034"
      },
      "source": [
        "if False:\n",
        "  print(123)\n",
        "print(321)\n"
      ],
      "execution_count": 4,
      "outputs": [
        {
          "output_type": "stream",
          "text": [
            "321\n"
          ],
          "name": "stdout"
        }
      ]
    },
    {
      "cell_type": "code",
      "metadata": {
        "id": "XSTQ2zr_-91L",
        "colab_type": "code",
        "colab": {
          "base_uri": "https://localhost:8080/",
          "height": 68
        },
        "outputId": "69b191f8-85d0-462e-d190-7c6868f9d191"
      },
      "source": [
        "movie_title=input(\"輸入電影名稱\")\n",
        "movie_rating=input(\"輸入電影評等\")\n",
        "movie_rating=float(movie_rating)\n",
        "\n",
        "if movie_rating>7:\n",
        "  print(\"{}的評分為{}分值得去看\".format(movie_title,movie_rating))\n",
        "  "
      ],
      "execution_count": 6,
      "outputs": [
        {
          "output_type": "stream",
          "text": [
            "輸入電影名稱小紅帽\n",
            "輸入電影評等8\n",
            "小紅帽的評分為8.0分值得去看\n"
          ],
          "name": "stdout"
        }
      ]
    },
    {
      "cell_type": "code",
      "metadata": {
        "id": "FswdHs7RBppN",
        "colab_type": "code",
        "colab": {
          "base_uri": "https://localhost:8080/",
          "height": 68
        },
        "outputId": "6c52217c-a94a-42a6-8662-7099189e6429"
      },
      "source": [
        "movie_title=input(\"輸入電影名稱\")\n",
        "movie_rating=input(\"輸入電影評等\")\n",
        "movie_rating=float(movie_rating)\n",
        "\n",
        "if movie_rating>7:\n",
        "  print(\"{}的評分為{}分值得去看\".format(movie_title,movie_rating))\n",
        "if movie_rating<=7:    #此行換成else的結果是一樣的\n",
        "   print(\"{}的評分為{}分不值得去看，浪費時間\".format(movie_title,movie_rating))"
      ],
      "execution_count": 7,
      "outputs": [
        {
          "output_type": "stream",
          "text": [
            "輸入電影名稱大野狼\n",
            "輸入電影評等5\n",
            "大野狼的評分為5.0分不值得去看，浪費時間\n"
          ],
          "name": "stdout"
        }
      ]
    },
    {
      "cell_type": "code",
      "metadata": {
        "id": "z9LUWsuU2_J1",
        "colab_type": "code",
        "colab": {
          "base_uri": "https://localhost:8080/",
          "height": 51
        },
        "outputId": "bf5758d3-cf56-488c-ef80-090283696959"
      },
      "source": [
        "#隨堂練習\n",
        "#(1)月薪超過 4 萬或存款超過 50 萬就發信用卡\n",
        "#法一\n",
        "\n",
        "monthly_income = input(\"請輸入月薪：\")\n",
        "saving_account = input(\"請輸入存款：\")\n",
        "\n",
        "monthly_income=int(monthly_income)   #文字轉整數\n",
        "saving_account=int(saving_account)\n",
        "\n",
        "if (monthly_income>=40000 or saving_account>=500000):\n",
        "  print(\"發信用卡\")"
      ],
      "execution_count": 8,
      "outputs": [
        {
          "output_type": "stream",
          "text": [
            "請輸入月薪：50\n",
            "請輸入存款：400000\n"
          ],
          "name": "stdout"
        }
      ]
    },
    {
      "cell_type": "code",
      "metadata": {
        "id": "jw17YfPQ_hw9",
        "colab_type": "code",
        "colab": {
          "base_uri": "https://localhost:8080/",
          "height": 68
        },
        "outputId": "320043ce-f63c-4d72-8a18-3c16c816a632"
      },
      "source": [
        "#法二\n",
        "\n",
        "monthly_income = input(\"請輸入月薪：\")\n",
        "saving_account = input(\"請輸入存款：\")\n",
        "\n",
        "monthly_income=int(monthly_income)   #文字轉整數\n",
        "saving_account=int(saving_account)\n",
        "ans=\"\"\n",
        "#條件判斷(begin)\n",
        "if monthly_income>40000:\n",
        "  ans=\"發信用卡\"\n",
        "if saving_account>500000:\n",
        "  ans=\"發信用卡\"\n",
        "#條件判斷(end)\n",
        "print(ans)\n"
      ],
      "execution_count": 10,
      "outputs": [
        {
          "output_type": "stream",
          "text": [
            "請輸入月薪：40001\n",
            "請輸入存款：0\n",
            "發信用卡\n"
          ],
          "name": "stdout"
        }
      ]
    },
    {
      "cell_type": "code",
      "metadata": {
        "id": "KQ12cFKTCXUP",
        "colab_type": "code",
        "colab": {
          "base_uri": "https://localhost:8080/",
          "height": 51
        },
        "outputId": "ed2e0c64-2d3e-44aa-d24d-95ff0ebc05af"
      },
      "source": [
        "#(2)判斷基偶數\n",
        "\n",
        "user_int = input(\"請輸入一個正整數：\")\n",
        "user_int=int(user_int)   #文字轉整數\n",
        "\n",
        "if user_int%2 ==0:\n",
        "  ans=\"偶數\"\n",
        "else:\n",
        "  ans=\"基數\"\n",
        "print(ans)\n"
      ],
      "execution_count": 11,
      "outputs": [
        {
          "output_type": "stream",
          "text": [
            "請輸入一個正整數：100\n",
            "偶數\n"
          ],
          "name": "stdout"
        }
      ]
    },
    {
      "cell_type": "code",
      "metadata": {
        "id": "TwfxK2ekEfRN",
        "colab_type": "code",
        "colab": {
          "base_uri": "https://localhost:8080/",
          "height": 51
        },
        "outputId": "85af1808-152f-4b28-801f-147e8aefaba9"
      },
      "source": [
        "#(3)依身分證字號尾數決定星期幾可以購買口罩\n",
        "\n",
        "id_last_digit = input(\"請輸入您身分證字號的尾數：\")\n",
        "id_last_digit =int(id_last_digit)\n",
        "\n",
        "if id_last_digit %2==0:\n",
        "  ans=\"星期二四六日領口罩\"\n",
        "else:\n",
        "  ans=\"星期一三五日領口罩\"\n",
        "print(ans)"
      ],
      "execution_count": 12,
      "outputs": [
        {
          "output_type": "stream",
          "text": [
            "請輸入您身分證字號的尾數：5\n",
            "星期一三五日領口罩\n"
          ],
          "name": "stdout"
        }
      ]
    },
    {
      "cell_type": "markdown",
      "metadata": {
        "id": "uBMMDJPtPZfX",
        "colab_type": "text"
      },
      "source": [
        ""
      ]
    },
    {
      "cell_type": "code",
      "metadata": {
        "id": "e88V_0lkG4wu",
        "colab_type": "code",
        "colab": {
          "base_uri": "https://localhost:8080/",
          "height": 51
        },
        "outputId": "dc77adf2-047b-47b5-e125-41fe6aae5204"
      },
      "source": [
        "#補充_用身分證字號辨別甚麼時候買口罩\n",
        "id_number=input(\"請輸入身分證字號\")\n",
        "id_last_digit=id_number[-1]\n",
        "id_last_digit=int(id_last_digit)\n",
        "if id_last_digit %2==0:\n",
        "  ans=\"星期二四六日領口罩\"\n",
        "else:\n",
        "  ans=\"星期一三五日領口罩\"\n",
        "print(ans)"
      ],
      "execution_count": 13,
      "outputs": [
        {
          "output_type": "stream",
          "text": [
            "請輸入身分證字號G123456789\n",
            "星期一三五日領口罩\n"
          ],
          "name": "stdout"
        }
      ]
    },
    {
      "cell_type": "code",
      "metadata": {
        "id": "6aJ251E9LYps",
        "colab_type": "code",
        "colab": {
          "base_uri": "https://localhost:8080/",
          "height": 233
        },
        "outputId": "29da1fd0-9318-457c-bf9c-b49732da4664"
      },
      "source": [
        "#(4)判斷 BMI 的類別標籤\n",
        "\n",
        "input_height = float(input(\"請輸入身高（公分）：\"))\n",
        "input_weight = float(input(\"請輸入體重（公斤）：\"))\n",
        "bmi=input_weight/(input_height*0.01)**2\n",
        "if bmi>30:\n",
        "  label=\"Obese\"\n",
        "elif bmi>25:\n",
        "  label=\"Normal weight\"\n",
        "elif bmi<=18.5:\n",
        "  label=\"Under weight\"\n",
        "print(label)"
      ],
      "execution_count": 22,
      "outputs": [
        {
          "output_type": "stream",
          "text": [
            "請輸入身高（公分）：162\n",
            "請輸入體重（公斤）：55\n"
          ],
          "name": "stdout"
        },
        {
          "output_type": "error",
          "ename": "NameError",
          "evalue": "ignored",
          "traceback": [
            "\u001b[0;31m---------------------------------------------------------------------------\u001b[0m",
            "\u001b[0;31mNameError\u001b[0m                                 Traceback (most recent call last)",
            "\u001b[0;32m<ipython-input-22-24da49c067f4>\u001b[0m in \u001b[0;36m<module>\u001b[0;34m()\u001b[0m\n\u001b[1;32m      9\u001b[0m \u001b[0;32melif\u001b[0m \u001b[0mbmi\u001b[0m\u001b[0;34m<=\u001b[0m\u001b[0;36m18.5\u001b[0m\u001b[0;34m:\u001b[0m\u001b[0;34m\u001b[0m\u001b[0;34m\u001b[0m\u001b[0m\n\u001b[1;32m     10\u001b[0m   \u001b[0mlabel\u001b[0m\u001b[0;34m=\u001b[0m\u001b[0;34m\"Under weight\"\u001b[0m\u001b[0;34m\u001b[0m\u001b[0;34m\u001b[0m\u001b[0m\n\u001b[0;32m---> 11\u001b[0;31m \u001b[0mprint\u001b[0m\u001b[0;34m(\u001b[0m\u001b[0mlabel\u001b[0m\u001b[0;34m)\u001b[0m\u001b[0;34m\u001b[0m\u001b[0;34m\u001b[0m\u001b[0m\n\u001b[0m",
            "\u001b[0;31mNameError\u001b[0m: name 'label' is not defined"
          ]
        }
      ]
    },
    {
      "cell_type": "code",
      "metadata": {
        "id": "CCkqEtZhQ3BS",
        "colab_type": "code",
        "colab": {}
      },
      "source": [
        ""
      ],
      "execution_count": 0,
      "outputs": []
    }
  ]
}