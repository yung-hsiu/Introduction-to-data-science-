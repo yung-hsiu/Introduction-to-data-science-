{
  "nbformat": 4,
  "nbformat_minor": 0,
  "metadata": {
    "colab": {
      "name": "0629week13.ipynb",
      "provenance": [],
      "authorship_tag": "ABX9TyPcnetgT91rjFkRolvHHgT8",
      "include_colab_link": true
    },
    "kernelspec": {
      "name": "python3",
      "display_name": "Python 3"
    }
  },
  "cells": [
    {
      "cell_type": "markdown",
      "metadata": {
        "id": "view-in-github",
        "colab_type": "text"
      },
      "source": [
        "<a href=\"https://colab.research.google.com/github/yung-hsiu/Introduction-to-data-science-/blob/master/0629week13.ipynb\" target=\"_parent\"><img src=\"https://colab.research.google.com/assets/colab-badge.svg\" alt=\"Open In Colab\"/></a>"
      ]
    },
    {
      "cell_type": "code",
      "metadata": {
        "id": "MEB6IsJYHy1A",
        "colab_type": "code",
        "colab": {
          "base_uri": "https://localhost:8080/",
          "height": 35
        },
        "outputId": "f2dd3ac8-a6af-4bf4-f383-cec4a69054e3"
      },
      "source": [
        "n_vowels = 0 \n",
        "for i in 'azcbobobegghakl':\n",
        "    if i in ['a', 'e', 'i', 'o', 'u']:       \n",
        "       n_vowels += 1\n",
        "print(n_vowels)"
      ],
      "execution_count": 1,
      "outputs": [
        {
          "output_type": "stream",
          "text": [
            "5\n"
          ],
          "name": "stdout"
        }
      ]
    },
    {
      "cell_type": "code",
      "metadata": {
        "id": "LyaqAhaeIEUT",
        "colab_type": "code",
        "colab": {
          "base_uri": "https://localhost:8080/",
          "height": 35
        },
        "outputId": "6e746b77-9ffb-422f-af77-ea016f918562"
      },
      "source": [
        "test_str = 'azcbobobegghak'\n",
        "n_char = len(test_str)\n",
        "n_bobs = 0\n",
        "for i in range(n_char - 2):    \n",
        "    if test_str[i:i+3] == 'bob':\n",
        "        n_bobs += 1\n",
        "print(n_bobs)"
      ],
      "execution_count": 2,
      "outputs": [
        {
          "output_type": "stream",
          "text": [
            "2\n"
          ],
          "name": "stdout"
        }
      ]
    },
    {
      "cell_type": "code",
      "metadata": {
        "id": "jH-470U6IICe",
        "colab_type": "code",
        "colab": {
          "base_uri": "https://localhost:8080/",
          "height": 35
        },
        "outputId": "318aaa02-1c5a-4045-950e-97cb9ef3dddd"
      },
      "source": [
        "x = list(range(1, 101))\n",
        "N = len(x)\n",
        "x_bar = sum(x) / N\n",
        "sse = 0\n",
        "for xi in x:    \n",
        "    squared_error = (xi - x_bar)**2\n",
        "    sse += squared_error \n",
        "sample_mse = sse / (N-1)\n",
        "sample_stdev = sample_mse**(0.5)\n",
        "print(sample_stdev)"
      ],
      "execution_count": 3,
      "outputs": [
        {
          "output_type": "stream",
          "text": [
            "29.011491975882016\n"
          ],
          "name": "stdout"
        }
      ]
    },
    {
      "cell_type": "code",
      "metadata": {
        "id": "ZWwiz8HrILR8",
        "colab_type": "code",
        "colab": {
          "base_uri": "https://localhost:8080/",
          "height": 52
        },
        "outputId": "7d460d06-d6c6-4802-9015-9fa4951a89d6"
      },
      "source": [
        "def absolute(x):\n",
        "    \"\"\"\n",
        "    Returns the absolute value of x.\n",
        "    \"\"\"\n",
        "    if x < 0:\n",
        "        abs_x = -x\n",
        "        print(\"{}的絕對值是{}\".format(x, abs_x))\n",
        "        return abs_x\n",
        "    else:\n",
        "        print(\"{}的絕對值是{}\".format(x, x))\n",
        "        return x\n",
        "positive_56 = absolute(-5566)\n",
        "print(positive_56)"
      ],
      "execution_count": 4,
      "outputs": [
        {
          "output_type": "stream",
          "text": [
            "-5566的絕對值是5566\n",
            "5566\n"
          ],
          "name": "stdout"
        }
      ]
    },
    {
      "cell_type": "code",
      "metadata": {
        "id": "bKWyfqQ9IOmO",
        "colab_type": "code",
        "colab": {
          "base_uri": "https://localhost:8080/",
          "height": 35
        },
        "outputId": "4284e160-54ec-4de9-dc08-eda3aa987bb1"
      },
      "source": [
        "def get_bmi(height, weight):\n",
        "    \"\"\"\n",
        "    Calculate BMI based on height and weight\n",
        "    \"\"\"\n",
        "    height = height / 100\n",
        "    bmi = weight / height**2\n",
        "    return bmi\n",
        "\n",
        "get_bmi(216, 147)"
      ],
      "execution_count": 5,
      "outputs": [
        {
          "output_type": "execute_result",
          "data": {
            "text/plain": [
              "31.507201646090532"
            ]
          },
          "metadata": {
            "tags": []
          },
          "execution_count": 5
        }
      ]
    },
    {
      "cell_type": "code",
      "metadata": {
        "id": "s4k7MuydIS-Y",
        "colab_type": "code",
        "colab": {
          "base_uri": "https://localhost:8080/",
          "height": 35
        },
        "outputId": "eeab3007-19d6-4e7d-9e01-532d8320a3b9"
      },
      "source": [
        "\n",
        "def get_fahrenheit(x):\n",
        "    \"\"\"\n",
        "    Transform a Celsius degree into  Farenheit scale\n",
        "    \"\"\"\n",
        "    fah = x * 9/5 + 32\n",
        "    return fah\n",
        "get_fahrenheit(32)"
      ],
      "execution_count": 6,
      "outputs": [
        {
          "output_type": "execute_result",
          "data": {
            "text/plain": [
              "89.6"
            ]
          },
          "metadata": {
            "tags": []
          },
          "execution_count": 6
        }
      ]
    },
    {
      "cell_type": "code",
      "metadata": {
        "id": "DlsBQb4lIVnj",
        "colab_type": "code",
        "colab": {}
      },
      "source": [
        ""
      ],
      "execution_count": 0,
      "outputs": []
    }
  ]
}