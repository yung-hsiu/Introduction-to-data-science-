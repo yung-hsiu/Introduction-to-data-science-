{
  "nbformat": 4,
  "nbformat_minor": 0,
  "metadata": {
    "colab": {
      "name": "0508week10.ipynb",
      "provenance": [],
      "authorship_tag": "ABX9TyOSOIlLIOZCm3gN1IPOggR5",
      "include_colab_link": true
    },
    "kernelspec": {
      "name": "python3",
      "display_name": "Python 3"
    }
  },
  "cells": [
    {
      "cell_type": "markdown",
      "metadata": {
        "id": "view-in-github",
        "colab_type": "text"
      },
      "source": [
        "<a href=\"https://colab.research.google.com/github/yung-hsiu/Introduction-to-data-science-/blob/master/0508week10.ipynb\" target=\"_parent\"><img src=\"https://colab.research.google.com/assets/colab-badge.svg\" alt=\"Open In Colab\"/></a>"
      ]
    },
    {
      "cell_type": "code",
      "metadata": {
        "id": "Au1DnAGI2HoB",
        "colab_type": "code",
        "colab": {
          "base_uri": "https://localhost:8080/",
          "height": 68
        },
        "outputId": "9edbf3a0-2fac-417e-b2f0-e8a8da30ba7d"
      },
      "source": [
        "lucky_num_0 = 7\n",
        "lucky_num_1 = 24\n",
        "lucky_num_2 = 5566\n",
        "lucky_numbers = [7, 24, 5566]\n",
        "sat = \"Saturday\"\n",
        "sun = \"Sunday\"\n",
        "weekend = [\"Saturday\", \"Sunday\"]\n",
        "weekdays = [\"Monday\", \"Tuesday\", \"Wednesday\", \"Thursday\", \"Friday\"]\n",
        "\n",
        "print(len(lucky_numbers))\n",
        "print(len(weekend))\n",
        "print(len(weekdays))"
      ],
      "execution_count": 2,
      "outputs": [
        {
          "output_type": "stream",
          "text": [
            "3\n",
            "2\n",
            "5\n"
          ],
          "name": "stdout"
        }
      ]
    },
    {
      "cell_type": "code",
      "metadata": {
        "id": "ZQri40CdFxQx",
        "colab_type": "code",
        "colab": {
          "base_uri": "https://localhost:8080/",
          "height": 68
        },
        "outputId": "ede1a9e6-7673-4095-ad6f-20a5f1fd6a20"
      },
      "source": [
        "my_fav_weekday = \"Friday\"\n",
        "print(\"My favorite weekday is {}.\".format(my_fav_weekday))\n",
        "\n",
        "print(lucky_numbers)\n",
        "lucky_numbers.append(87)\n",
        "print(lucky_numbers)"
      ],
      "execution_count": 3,
      "outputs": [
        {
          "output_type": "stream",
          "text": [
            "My favorite weekday is Friday.\n",
            "[7, 24, 5566]\n",
            "[7, 24, 5566, 87]\n"
          ],
          "name": "stdout"
        }
      ]
    },
    {
      "cell_type": "code",
      "metadata": {
        "id": "XVz34yGgF_T-",
        "colab_type": "code",
        "colab": {
          "base_uri": "https://localhost:8080/",
          "height": 51
        },
        "outputId": "51ae3b7b-811a-4b40-c2b0-cf164da64970"
      },
      "source": [
        "print(lucky_numbers)\n",
        "lucky_numbers.pop()\n",
        "print(lucky_numbers)"
      ],
      "execution_count": 4,
      "outputs": [
        {
          "output_type": "stream",
          "text": [
            "[7, 24, 5566, 87]\n",
            "[7, 24, 5566]\n"
          ],
          "name": "stdout"
        }
      ]
    },
    {
      "cell_type": "code",
      "metadata": {
        "id": "0Gk8iS9pGK0K",
        "colab_type": "code",
        "colab": {
          "base_uri": "https://localhost:8080/",
          "height": 51
        },
        "outputId": "c4dad6ab-c8bb-4f82-ed37-d6c2b5fa88a8"
      },
      "source": [
        "my_fav_group = lucky_numbers.pop()\n",
        "print(lucky_numbers)\n",
        "print(my_fav_group)"
      ],
      "execution_count": 5,
      "outputs": [
        {
          "output_type": "stream",
          "text": [
            "[7, 24]\n",
            "5566\n"
          ],
          "name": "stdout"
        }
      ]
    },
    {
      "cell_type": "code",
      "metadata": {
        "id": "5re4gdiKGOtO",
        "colab_type": "code",
        "colab": {
          "base_uri": "https://localhost:8080/",
          "height": 51
        },
        "outputId": "8d61e75f-56fa-4790-b17b-4380107b817a"
      },
      "source": [
        "print(weekdays)\n",
        "print(weekend)"
      ],
      "execution_count": 6,
      "outputs": [
        {
          "output_type": "stream",
          "text": [
            "['Monday', 'Tuesday', 'Wednesday', 'Thursday', 'Friday']\n",
            "['Saturday', 'Sunday']\n"
          ],
          "name": "stdout"
        }
      ]
    },
    {
      "cell_type": "code",
      "metadata": {
        "id": "nEhjEaMdGTHu",
        "colab_type": "code",
        "colab": {
          "base_uri": "https://localhost:8080/",
          "height": 34
        },
        "outputId": "149fbaea-1dd4-436f-e8af-1335da98fb76"
      },
      "source": [
        "weekdays + weekend\n",
        "weekend + weekdays"
      ],
      "execution_count": 9,
      "outputs": [
        {
          "output_type": "execute_result",
          "data": {
            "text/plain": [
              "['Saturday', 'Sunday', 'Monday', 'Tuesday', 'Wednesday', 'Thursday', 'Friday']"
            ]
          },
          "metadata": {
            "tags": []
          },
          "execution_count": 9
        }
      ]
    },
    {
      "cell_type": "code",
      "metadata": {
        "id": "x0yfMqmyJCle",
        "colab_type": "code",
        "colab": {
          "base_uri": "https://localhost:8080/",
          "height": 102
        },
        "outputId": "66531ef4-0046-4579-aaa2-5e752138ddd4"
      },
      "source": [
        "print(weekdays[0])\n",
        "print(weekdays[1])\n",
        "print(weekdays[2])\n",
        "print(weekdays[3])\n",
        "print(weekdays[4])"
      ],
      "execution_count": 10,
      "outputs": [
        {
          "output_type": "stream",
          "text": [
            "Monday\n",
            "Tuesday\n",
            "Wednesday\n",
            "Thursday\n",
            "Friday\n"
          ],
          "name": "stdout"
        }
      ]
    },
    {
      "cell_type": "code",
      "metadata": {
        "id": "Oyuce6goJLmU",
        "colab_type": "code",
        "colab": {
          "base_uri": "https://localhost:8080/",
          "height": 102
        },
        "outputId": "29e68fc3-1602-414d-9af4-c09590a71691"
      },
      "source": [
        "i = 0\n",
        "while i < 5:\n",
        "    print(weekdays[i])\n",
        "    i += 1"
      ],
      "execution_count": 11,
      "outputs": [
        {
          "output_type": "stream",
          "text": [
            "Monday\n",
            "Tuesday\n",
            "Wednesday\n",
            "Thursday\n",
            "Friday\n"
          ],
          "name": "stdout"
        }
      ]
    },
    {
      "cell_type": "code",
      "metadata": {
        "id": "vdwUXGwHJT2y",
        "colab_type": "code",
        "colab": {
          "base_uri": "https://localhost:8080/",
          "height": 51
        },
        "outputId": "b0fa1344-d144-4c11-c03e-3d43274a6864"
      },
      "source": [
        "i = 0\n",
        "while i < 2:\n",
        "    print(weekend[i])\n",
        "    i += 1"
      ],
      "execution_count": 12,
      "outputs": [
        {
          "output_type": "stream",
          "text": [
            "Saturday\n",
            "Sunday\n"
          ],
          "name": "stdout"
        }
      ]
    },
    {
      "cell_type": "code",
      "metadata": {
        "id": "KXR8JIDTJUnq",
        "colab_type": "code",
        "colab": {
          "base_uri": "https://localhost:8080/",
          "height": 51
        },
        "outputId": "442e128e-0f6f-4215-8d34-62eb93c60a65"
      },
      "source": [
        "i = 0\n",
        "while i < len(weekend):\n",
        "    print(weekend[i])\n",
        "    i += 1"
      ],
      "execution_count": 13,
      "outputs": [
        {
          "output_type": "stream",
          "text": [
            "Saturday\n",
            "Sunday\n"
          ],
          "name": "stdout"
        }
      ]
    },
    {
      "cell_type": "code",
      "metadata": {
        "id": "QgPmUH8kJXQi",
        "colab_type": "code",
        "colab": {
          "base_uri": "https://localhost:8080/",
          "height": 102
        },
        "outputId": "a4c068aa-6236-4200-ede4-43ab2776b595"
      },
      "source": [
        "i = 0\n",
        "while i < len(weekdays):\n",
        "    print(weekdays[i])\n",
        "    i += 1"
      ],
      "execution_count": 14,
      "outputs": [
        {
          "output_type": "stream",
          "text": [
            "Monday\n",
            "Tuesday\n",
            "Wednesday\n",
            "Thursday\n",
            "Friday\n"
          ],
          "name": "stdout"
        }
      ]
    },
    {
      "cell_type": "code",
      "metadata": {
        "id": "p-Hq_vn7NUb7",
        "colab_type": "code",
        "colab": {
          "base_uri": "https://localhost:8080/",
          "height": 102
        },
        "outputId": "f4768341-2d52-4d17-9022-2a1d45c6a4a3"
      },
      "source": [
        "print(weekdays[-1])\n",
        "print(weekdays[-2])\n",
        "print(weekdays[-3])\n",
        "print(weekdays[-4])\n",
        "print(weekdays[-5])"
      ],
      "execution_count": 15,
      "outputs": [
        {
          "output_type": "stream",
          "text": [
            "Friday\n",
            "Thursday\n",
            "Wednesday\n",
            "Tuesday\n",
            "Monday\n"
          ],
          "name": "stdout"
        }
      ]
    },
    {
      "cell_type": "code",
      "metadata": {
        "id": "rKGw6vR_NW7h",
        "colab_type": "code",
        "colab": {
          "base_uri": "https://localhost:8080/",
          "height": 51
        },
        "outputId": "d1301549-357e-4bb0-af1c-b706c83f69ea"
      },
      "source": [
        "#參考 cast 與 https://www.imdb.com/title/tt4154796 將飾演奇異博士（Doctor Strange）的演員用 indexing 方式選出來\n",
        "\n",
        "cast = ['Robert Downey Jr.', 'Chris Evans', 'Mark Ruffalo', 'Chris Hemsworth', 'Scarlett Johansson', 'Jeremy Renner', 'Don Cheadle', 'Paul Rudd', 'Benedict Cumberbatch', 'Chadwick Boseman', 'Brie Larson', 'Tom Holland', 'Karen Gillan', 'Zoe Saldana', 'Evangeline Lilly']\n",
        "#從開頭數\n",
        "print(cast[8])\n",
        "\n",
        "#從末端數\n",
        "print(cast[-7])"
      ],
      "execution_count": 16,
      "outputs": [
        {
          "output_type": "stream",
          "text": [
            "Benedict Cumberbatch\n",
            "Benedict Cumberbatch\n"
          ],
          "name": "stdout"
        }
      ]
    },
    {
      "cell_type": "code",
      "metadata": {
        "id": "LbiIDHoyNZ6i",
        "colab_type": "code",
        "colab": {
          "base_uri": "https://localhost:8080/",
          "height": 34
        },
        "outputId": "c9209d8d-2fea-4396-85ba-a77d696bbb5a"
      },
      "source": [
        "#參考 cast 與 https://www.imdb.com/title/tt4154796 將第一集復仇者聯盟的六位英雄選出來\n",
        "cast = ['Robert Downey Jr.', 'Chris Evans', 'Mark Ruffalo', 'Chris Hemsworth', 'Scarlett Johansson', 'Jeremy Renner', 'Don Cheadle', 'Paul Rudd', 'Benedict Cumberbatch', 'Chadwick Boseman', 'Brie Larson', 'Tom Holland', 'Karen Gillan', 'Zoe Saldana', 'Evangeline Lilly']\n",
        "print(cast[:6])"
      ],
      "execution_count": 17,
      "outputs": [
        {
          "output_type": "stream",
          "text": [
            "['Robert Downey Jr.', 'Chris Evans', 'Mark Ruffalo', 'Chris Hemsworth', 'Scarlett Johansson', 'Jeremy Renner']\n"
          ],
          "name": "stdout"
        }
      ]
    },
    {
      "cell_type": "code",
      "metadata": {
        "id": "MTK6bS54NdRh",
        "colab_type": "code",
        "colab": {
          "base_uri": "https://localhost:8080/",
          "height": 1000
        },
        "outputId": "228ec8ac-c02e-4931-fcd6-2c7ebb75294c"
      },
      "source": [
        "#covid19\n",
        "import pandas as pd\n",
        "\n",
        "time_series_df = pd.read_csv(\"https://raw.githubusercontent.com/CSSEGISandData/COVID-19/master/csse_covid_19_data/csse_covid_19_time_series/time_series_covid19_confirmed_global.csv\")\n",
        "cumulative_confirmed = list(time_series_df[time_series_df['Country/Region'] == 'Taiwan*'].values.ravel()[4:].astype(int))\n",
        "cumulative_confirmed_lag = list(time_series_df[time_series_df['Country/Region'] == 'Taiwan*'].values.ravel()[4:].astype(int))\n",
        "print(cumulative_confirmed)\n",
        "print(cumulative_confirmed_lag)\n",
        "\n",
        "print(len(cumulative_confirmed))\n",
        "print(cumulative_confirmed[-1])\n",
        "\n",
        "cumulative_confirmed_lag.insert(0, 0)\n",
        "print(len(cumulative_confirmed_lag))\n",
        "print(cumulative_confirmed_lag[0])\n",
        "\n",
        "cumulative_confirmed_lag.pop()\n",
        "print(len(cumulative_confirmed_lag))\n",
        "print(cumulative_confirmed_lag[-1])\n",
        "\n",
        "\n",
        "\n",
        "print(cumulative_confirmed)\n",
        "print(cumulative_confirmed_lag)\n",
        "#daily_incraese=?\n",
        "daily_increase=[]\n",
        "i = 0\n",
        "while i <107:\n",
        "   dayn_increase=cumulative_confirmed[i] - cumulative_confirmed_lag[i]\n",
        "   print(\"Day{}:每日新增確診人數{}\".format(i,dayn_increase)) \n",
        "   i+=1"
      ],
      "execution_count": 18,
      "outputs": [
        {
          "output_type": "stream",
          "text": [
            "[1, 1, 3, 3, 4, 5, 8, 8, 9, 10, 10, 10, 10, 11, 11, 16, 16, 17, 18, 18, 18, 18, 18, 18, 18, 20, 22, 22, 23, 24, 26, 26, 28, 30, 31, 32, 32, 34, 39, 40, 41, 42, 42, 44, 45, 45, 45, 45, 47, 48, 49, 50, 53, 59, 67, 77, 100, 108, 135, 153, 169, 195, 215, 235, 252, 267, 283, 298, 306, 322, 329, 339, 348, 355, 363, 373, 376, 379, 380, 382, 385, 388, 393, 393, 395, 395, 395, 398, 420, 422, 425, 426, 427, 428, 429, 429, 429, 429, 429, 429, 429, 432, 436, 438, 438, 439, 440, 440, 440, 440, 440, 440, 440]\n",
            "[1, 1, 3, 3, 4, 5, 8, 8, 9, 10, 10, 10, 10, 11, 11, 16, 16, 17, 18, 18, 18, 18, 18, 18, 18, 20, 22, 22, 23, 24, 26, 26, 28, 30, 31, 32, 32, 34, 39, 40, 41, 42, 42, 44, 45, 45, 45, 45, 47, 48, 49, 50, 53, 59, 67, 77, 100, 108, 135, 153, 169, 195, 215, 235, 252, 267, 283, 298, 306, 322, 329, 339, 348, 355, 363, 373, 376, 379, 380, 382, 385, 388, 393, 393, 395, 395, 395, 398, 420, 422, 425, 426, 427, 428, 429, 429, 429, 429, 429, 429, 429, 432, 436, 438, 438, 439, 440, 440, 440, 440, 440, 440, 440]\n",
            "113\n",
            "440\n",
            "114\n",
            "0\n",
            "113\n",
            "440\n",
            "[1, 1, 3, 3, 4, 5, 8, 8, 9, 10, 10, 10, 10, 11, 11, 16, 16, 17, 18, 18, 18, 18, 18, 18, 18, 20, 22, 22, 23, 24, 26, 26, 28, 30, 31, 32, 32, 34, 39, 40, 41, 42, 42, 44, 45, 45, 45, 45, 47, 48, 49, 50, 53, 59, 67, 77, 100, 108, 135, 153, 169, 195, 215, 235, 252, 267, 283, 298, 306, 322, 329, 339, 348, 355, 363, 373, 376, 379, 380, 382, 385, 388, 393, 393, 395, 395, 395, 398, 420, 422, 425, 426, 427, 428, 429, 429, 429, 429, 429, 429, 429, 432, 436, 438, 438, 439, 440, 440, 440, 440, 440, 440, 440]\n",
            "[0, 1, 1, 3, 3, 4, 5, 8, 8, 9, 10, 10, 10, 10, 11, 11, 16, 16, 17, 18, 18, 18, 18, 18, 18, 18, 20, 22, 22, 23, 24, 26, 26, 28, 30, 31, 32, 32, 34, 39, 40, 41, 42, 42, 44, 45, 45, 45, 45, 47, 48, 49, 50, 53, 59, 67, 77, 100, 108, 135, 153, 169, 195, 215, 235, 252, 267, 283, 298, 306, 322, 329, 339, 348, 355, 363, 373, 376, 379, 380, 382, 385, 388, 393, 393, 395, 395, 395, 398, 420, 422, 425, 426, 427, 428, 429, 429, 429, 429, 429, 429, 429, 432, 436, 438, 438, 439, 440, 440, 440, 440, 440, 440]\n",
            "Day0:每日新增確診人數1\n",
            "Day1:每日新增確診人數0\n",
            "Day2:每日新增確診人數2\n",
            "Day3:每日新增確診人數0\n",
            "Day4:每日新增確診人數1\n",
            "Day5:每日新增確診人數1\n",
            "Day6:每日新增確診人數3\n",
            "Day7:每日新增確診人數0\n",
            "Day8:每日新增確診人數1\n",
            "Day9:每日新增確診人數1\n",
            "Day10:每日新增確診人數0\n",
            "Day11:每日新增確診人數0\n",
            "Day12:每日新增確診人數0\n",
            "Day13:每日新增確診人數1\n",
            "Day14:每日新增確診人數0\n",
            "Day15:每日新增確診人數5\n",
            "Day16:每日新增確診人數0\n",
            "Day17:每日新增確診人數1\n",
            "Day18:每日新增確診人數1\n",
            "Day19:每日新增確診人數0\n",
            "Day20:每日新增確診人數0\n",
            "Day21:每日新增確診人數0\n",
            "Day22:每日新增確診人數0\n",
            "Day23:每日新增確診人數0\n",
            "Day24:每日新增確診人數0\n",
            "Day25:每日新增確診人數2\n",
            "Day26:每日新增確診人數2\n",
            "Day27:每日新增確診人數0\n",
            "Day28:每日新增確診人數1\n",
            "Day29:每日新增確診人數1\n",
            "Day30:每日新增確診人數2\n",
            "Day31:每日新增確診人數0\n",
            "Day32:每日新增確診人數2\n",
            "Day33:每日新增確診人數2\n",
            "Day34:每日新增確診人數1\n",
            "Day35:每日新增確診人數1\n",
            "Day36:每日新增確診人數0\n",
            "Day37:每日新增確診人數2\n",
            "Day38:每日新增確診人數5\n",
            "Day39:每日新增確診人數1\n",
            "Day40:每日新增確診人數1\n",
            "Day41:每日新增確診人數1\n",
            "Day42:每日新增確診人數0\n",
            "Day43:每日新增確診人數2\n",
            "Day44:每日新增確診人數1\n",
            "Day45:每日新增確診人數0\n",
            "Day46:每日新增確診人數0\n",
            "Day47:每日新增確診人數0\n",
            "Day48:每日新增確診人數2\n",
            "Day49:每日新增確診人數1\n",
            "Day50:每日新增確診人數1\n",
            "Day51:每日新增確診人數1\n",
            "Day52:每日新增確診人數3\n",
            "Day53:每日新增確診人數6\n",
            "Day54:每日新增確診人數8\n",
            "Day55:每日新增確診人數10\n",
            "Day56:每日新增確診人數23\n",
            "Day57:每日新增確診人數8\n",
            "Day58:每日新增確診人數27\n",
            "Day59:每日新增確診人數18\n",
            "Day60:每日新增確診人數16\n",
            "Day61:每日新增確診人數26\n",
            "Day62:每日新增確診人數20\n",
            "Day63:每日新增確診人數20\n",
            "Day64:每日新增確診人數17\n",
            "Day65:每日新增確診人數15\n",
            "Day66:每日新增確診人數16\n",
            "Day67:每日新增確診人數15\n",
            "Day68:每日新增確診人數8\n",
            "Day69:每日新增確診人數16\n",
            "Day70:每日新增確診人數7\n",
            "Day71:每日新增確診人數10\n",
            "Day72:每日新增確診人數9\n",
            "Day73:每日新增確診人數7\n",
            "Day74:每日新增確診人數8\n",
            "Day75:每日新增確診人數10\n",
            "Day76:每日新增確診人數3\n",
            "Day77:每日新增確診人數3\n",
            "Day78:每日新增確診人數1\n",
            "Day79:每日新增確診人數2\n",
            "Day80:每日新增確診人數3\n",
            "Day81:每日新增確診人數3\n",
            "Day82:每日新增確診人數5\n",
            "Day83:每日新增確診人數0\n",
            "Day84:每日新增確診人數2\n",
            "Day85:每日新增確診人數0\n",
            "Day86:每日新增確診人數0\n",
            "Day87:每日新增確診人數3\n",
            "Day88:每日新增確診人數22\n",
            "Day89:每日新增確診人數2\n",
            "Day90:每日新增確診人數3\n",
            "Day91:每日新增確診人數1\n",
            "Day92:每日新增確診人數1\n",
            "Day93:每日新增確診人數1\n",
            "Day94:每日新增確診人數1\n",
            "Day95:每日新增確診人數0\n",
            "Day96:每日新增確診人數0\n",
            "Day97:每日新增確診人數0\n",
            "Day98:每日新增確診人數0\n",
            "Day99:每日新增確診人數0\n",
            "Day100:每日新增確診人數0\n",
            "Day101:每日新增確診人數3\n",
            "Day102:每日新增確診人數4\n",
            "Day103:每日新增確診人數2\n",
            "Day104:每日新增確診人數0\n",
            "Day105:每日新增確診人數1\n",
            "Day106:每日新增確診人數1\n"
          ],
          "name": "stdout"
        }
      ]
    },
    {
      "cell_type": "code",
      "metadata": {
        "id": "cfwazrUeNh1R",
        "colab_type": "code",
        "colab": {}
      },
      "source": [
        ""
      ],
      "execution_count": 0,
      "outputs": []
    }
  ]
}