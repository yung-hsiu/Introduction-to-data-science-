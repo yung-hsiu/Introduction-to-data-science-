{
  "nbformat": 4,
  "nbformat_minor": 0,
  "metadata": {
    "colab": {
      "name": "加分作業_生肖問題.ipynb",
      "provenance": [],
      "authorship_tag": "ABX9TyMtyk7f9gH/dbESVjXE5N8n",
      "include_colab_link": true
    },
    "kernelspec": {
      "name": "python3",
      "display_name": "Python 3"
    }
  },
  "cells": [
    {
      "cell_type": "markdown",
      "metadata": {
        "id": "view-in-github",
        "colab_type": "text"
      },
      "source": [
        "<a href=\"https://colab.research.google.com/github/yung-hsiu/Introduction-to-data-science-/blob/master/%E5%8A%A0%E5%88%86%E4%BD%9C%E6%A5%AD_%E7%94%9F%E8%82%96%E5%95%8F%E9%A1%8C.ipynb\" target=\"_parent\"><img src=\"https://colab.research.google.com/assets/colab-badge.svg\" alt=\"Open In Colab\"/></a>"
      ]
    },
    {
      "cell_type": "code",
      "metadata": {
        "id": "AiELY-5rJ_QJ",
        "colab_type": "code",
        "colab": {
          "base_uri": "https://localhost:8080/",
          "height": 69
        },
        "outputId": "83495873-4d45-4215-c086-1d8437ed37fa"
      },
      "source": [
        "#加分作業\n",
        "\n",
        "#題目:你打算和你的英國朋友說說十二生肖的故事，為了準備PPT，先在自己的電腦找了找圖片，結果發現你有10張動物的照片，依序分別是「牛、兔、馬、羊、猴、雞、鳥、狗、豬、貓」。\n",
        "animal_list=[\"牛\",\"兔\",\"馬\",\"羊\",\"猴\",\"雞\",\"鳥\",\"狗\",\"豬\",\"貓\"]\n",
        "ani_list=[\"鼠\",\"牛\",\"虎\",\"兔\",\"龍\",\"蛇\",\"馬\",\"羊\",\"猴\",\"雞\",\"狗\",\"豬\"]\n",
        "#(1)你得刪掉現有哪些動物的圖片？\n",
        "print(\"(1)得刪掉的圖片有:\",list(set(animal_list)-set(ani_list)))\n",
        "#(2)你還得從網路上找哪些動物的圖片？\n",
        "print(\"(2)得找到的圖片有:\",list(set(ani_list)-set(animal_list)))\n",
        "#(3)你要怎麼調整圖片的順序，才能依序說明十二生肖的故事呢？\n",
        "animal_list.insert(0,\"鼠\")\n",
        "animal_list.insert(2,\"虎\")\n",
        "animal_list.insert(4,\"龍\")\n",
        "animal_list.insert(5,\"蛇\")\n",
        "animal_list.remove(\"鳥\")\n",
        "animal_list.remove(\"貓\")\n",
        "print(\"(3)十二生肖的順序是:\",animal_list)\n"
      ],
      "execution_count": 4,
      "outputs": [
        {
          "output_type": "stream",
          "text": [
            "(1)得刪掉的圖片有: ['鳥', '貓']\n",
            "(2)得找到的圖片有: ['龍', '蛇', '虎', '鼠']\n",
            "(3)十二生肖的順序是: ['鼠', '牛', '虎', '兔', '龍', '蛇', '馬', '羊', '猴', '雞', '狗', '豬']\n"
          ],
          "name": "stdout"
        }
      ]
    },
    {
      "cell_type": "code",
      "metadata": {
        "id": "oNI5n3_wLAkQ",
        "colab_type": "code",
        "colab": {}
      },
      "source": [
        ""
      ],
      "execution_count": 0,
      "outputs": []
    }
  ]
}