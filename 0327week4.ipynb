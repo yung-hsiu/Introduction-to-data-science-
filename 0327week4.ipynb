{
  "nbformat": 4,
  "nbformat_minor": 0,
  "metadata": {
    "colab": {
      "name": "0327week4.ipynb",
      "provenance": [],
      "authorship_tag": "ABX9TyNV7QfTs7y0Y0FiEcklsmPr",
      "include_colab_link": true
    },
    "kernelspec": {
      "name": "python3",
      "display_name": "Python 3"
    }
  },
  "cells": [
    {
      "cell_type": "markdown",
      "metadata": {
        "id": "view-in-github",
        "colab_type": "text"
      },
      "source": [
        "<a href=\"https://colab.research.google.com/github/yung-hsiu/Introduction-to-data-science-/blob/master/0327week4.ipynb\" target=\"_parent\"><img src=\"https://colab.research.google.com/assets/colab-badge.svg\" alt=\"Open In Colab\"/></a>"
      ]
    },
    {
      "cell_type": "code",
      "metadata": {
        "id": "fw4vIl6Gn9xg",
        "colab_type": "code",
        "colab": {
          "base_uri": "https://localhost:8080/",
          "height": 34
        },
        "outputId": "a452f235-b13c-4e79-d2ef-bed668f34f42"
      },
      "source": [
        "#隨堂練習\n",
        "#(1)將目前的攝氏氣溫轉為華氏氣溫\n",
        "\n",
        "celsius=28  #目前氣溫28度\n",
        "fahrenheit=celsius*1.8+32\n",
        "\n",
        "print(fahrenheit)"
      ],
      "execution_count": 2,
      "outputs": [
        {
          "output_type": "stream",
          "text": [
            "82.4\n"
          ],
          "name": "stdout"
        }
      ]
    },
    {
      "cell_type": "code",
      "metadata": {
        "id": "k-Aw_K_qsB5C",
        "colab_type": "code",
        "colab": {
          "base_uri": "https://localhost:8080/",
          "height": 34
        },
        "outputId": "3db1f06c-e681-479d-cd60-e8e84524d636"
      },
      "source": [
        "#華氏溫度回算攝氏溫度\n",
        "#法一\n",
        "fahrenheit=celsius*1.8+32\n",
        "print(celsius)"
      ],
      "execution_count": 5,
      "outputs": [
        {
          "output_type": "stream",
          "text": [
            "28.000000000000004\n"
          ],
          "name": "stdout"
        }
      ]
    },
    {
      "cell_type": "code",
      "metadata": {
        "id": "h1-quhuTsl-0",
        "colab_type": "code",
        "colab": {
          "base_uri": "https://localhost:8080/",
          "height": 34
        },
        "outputId": "05727da5-81ec-4c8a-bb10-84ca50c55b53"
      },
      "source": [
        "#法二\n",
        "celsius=(fahrenheit-32)*5/9\n",
        "print(celsius)"
      ],
      "execution_count": 4,
      "outputs": [
        {
          "output_type": "stream",
          "text": [
            "28.000000000000004\n"
          ],
          "name": "stdout"
        }
      ]
    },
    {
      "cell_type": "code",
      "metadata": {
        "id": "LNl0Kpm9t8IS",
        "colab_type": "code",
        "colab": {
          "base_uri": "https://localhost:8080/",
          "height": 34
        },
        "outputId": "36d3d014-1741-4b48-a7ef-57e07dfa3322"
      },
      "source": [
        "#(2)俠客歐尼爾巔峰時期的 BMI 身體質量指數\n",
        "\n",
        "shaq_height=2.16 #單位公尺\n",
        "shaq_weight=147 #單位公斤\n",
        "\n",
        "shaq_BMI=shaq_weight/(shaq_height**2)  \n",
        "print(shaq_BMI)\n"
      ],
      "execution_count": 8,
      "outputs": [
        {
          "output_type": "stream",
          "text": [
            "31.507201646090532\n"
          ],
          "name": "stdout"
        }
      ]
    },
    {
      "cell_type": "code",
      "metadata": {
        "id": "sj4B0DimxWT3",
        "colab_type": "code",
        "colab": {
          "base_uri": "https://localhost:8080/",
          "height": 51
        },
        "outputId": "fe88b2e4-cd1e-4a1b-f8f7-b6944955a4cf"
      },
      "source": [
        "#印出 I'm lovin' it!\n",
        "#法一\n",
        "\n",
        "a= 'I\\'m lovin\\' it!' #跳脫字元\n",
        "print(a)\n",
        "print(type(a))"
      ],
      "execution_count": 12,
      "outputs": [
        {
          "output_type": "stream",
          "text": [
            "I'm lovin' it!\n",
            "<class 'str'>\n"
          ],
          "name": "stdout"
        }
      ]
    },
    {
      "cell_type": "code",
      "metadata": {
        "id": "GMy-sw1526EN",
        "colab_type": "code",
        "colab": {
          "base_uri": "https://localhost:8080/",
          "height": 51
        },
        "outputId": "449e8634-6ae9-4fcf-d67f-7ecf053b8a66"
      },
      "source": [
        "#法二\n",
        "\n",
        "a=\"I'm lovin' it!\" #或用\"\"\"    \"\"\"\n",
        "print(a)\n",
        "print(type(a))"
      ],
      "execution_count": 11,
      "outputs": [
        {
          "output_type": "stream",
          "text": [
            "I'm lovin' it!\n",
            "<class 'str'>\n"
          ],
          "name": "stdout"
        }
      ]
    },
    {
      "cell_type": "code",
      "metadata": {
        "id": "lBXLGzA83Tnm",
        "colab_type": "code",
        "colab": {
          "base_uri": "https://localhost:8080/",
          "height": 51
        },
        "outputId": "16791131-0cbd-4d5d-a104-f5cbde38a47c"
      },
      "source": [
        "#(3)輸出What did Ross say?\n",
        "\n",
        "b=\"\"\"Let's put aside the fact that you \"accidentally\" pick up my grandmother's ring.\"\"\"\n",
        "print(b)\n",
        "print(type(b))"
      ],
      "execution_count": 16,
      "outputs": [
        {
          "output_type": "stream",
          "text": [
            "Let's put aside the fact that you \"accidentally\" pick up my grandmother's ring.\n",
            "<class 'str'>\n"
          ],
          "name": "stdout"
        }
      ]
    },
    {
      "cell_type": "code",
      "metadata": {
        "id": "r__Hu0Vl5IAO",
        "colab_type": "code",
        "colab": {
          "base_uri": "https://localhost:8080/",
          "height": 68
        },
        "outputId": "fec6dd1f-b83d-4a54-849f-6392ba317862"
      },
      "source": [
        "#(4)輸入城市名稱與天氣，並印出「我在OOO，天氣OOO」\n",
        "#法一\n",
        "\n",
        "today_city=input(\"請輸入所在城市:\")\n",
        "today_weather=input(\"請輸入目前天氣:\")\n",
        "\n",
        "print(\"我在{}，天氣{}\".format(today_city,today_weather))  #印出不同物件的值 \"{}\".format(data)"
      ],
      "execution_count": 20,
      "outputs": [
        {
          "output_type": "stream",
          "text": [
            "請輸入所在城市:台北\n",
            "請輸入目前天氣:晴\n",
            "我在台北，天氣晴\n"
          ],
          "name": "stdout"
        }
      ]
    },
    {
      "cell_type": "code",
      "metadata": {
        "id": "pdW-ZxdFBI6r",
        "colab_type": "code",
        "colab": {
          "base_uri": "https://localhost:8080/",
          "height": 68
        },
        "outputId": "1dce45bf-4efd-4821-bb00-1502628c1c5e"
      },
      "source": [
        "#法二(但比較不建議)\n",
        "\n",
        "today_city=input(\"請輸入所在城市:\")\n",
        "today_weather=input(\"請輸入目前天氣:\")\n",
        "\n",
        "print(\"我在\"+today_city+\",天氣\"+today_weather)"
      ],
      "execution_count": 22,
      "outputs": [
        {
          "output_type": "stream",
          "text": [
            "請輸入所在城市:台北\n",
            "請輸入目前天氣:晴\n",
            "我在台北,天氣晴\n"
          ],
          "name": "stdout"
        }
      ]
    },
    {
      "cell_type": "code",
      "metadata": {
        "id": "iMXFmnDyFWMS",
        "colab_type": "code",
        "colab": {
          "base_uri": "https://localhost:8080/",
          "height": 34
        },
        "outputId": "19563f7d-b303-4dd1-8912-da2367256b70"
      },
      "source": [
        "#(5)身分證字號尾數是否為奇數\n",
        "\n",
        "id_nail_number=5\n",
        "\n",
        "id_nail_number%2==1\n"
      ],
      "execution_count": 27,
      "outputs": [
        {
          "output_type": "execute_result",
          "data": {
            "text/plain": [
              "True"
            ]
          },
          "metadata": {
            "tags": []
          },
          "execution_count": 27
        }
      ]
    },
    {
      "cell_type": "code",
      "metadata": {
        "id": "EulCEwVeI18i",
        "colab_type": "code",
        "colab": {}
      },
      "source": [
        ""
      ],
      "execution_count": 0,
      "outputs": []
    }
  ]
}