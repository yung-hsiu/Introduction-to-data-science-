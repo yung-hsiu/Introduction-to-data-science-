{
  "nbformat": 4,
  "nbformat_minor": 0,
  "metadata": {
    "colab": {
      "name": "0320week3.ipynb",
      "provenance": [],
      "authorship_tag": "ABX9TyPAf8SaCNRLXGwmZxD/1OBW",
      "include_colab_link": true
    },
    "kernelspec": {
      "name": "python3",
      "display_name": "Python 3"
    }
  },
  "cells": [
    {
      "cell_type": "markdown",
      "metadata": {
        "id": "view-in-github",
        "colab_type": "text"
      },
      "source": [
        "<a href=\"https://colab.research.google.com/github/yung-hsiu/Introduction-to-data-science-/blob/master/0320week3.ipynb\" target=\"_parent\"><img src=\"https://colab.research.google.com/assets/colab-badge.svg\" alt=\"Open In Colab\"/></a>"
      ]
    },
    {
      "cell_type": "code",
      "metadata": {
        "id": "ULhxykoOCber",
        "colab_type": "code",
        "outputId": "9903f1f4-67e2-45fb-dba2-11c83626c538",
        "colab": {
          "base_uri": "https://localhost:8080/",
          "height": 34
        }
      },
      "source": [
        "# input \"03-19-2020\"\n",
        "# output \"03-19-2020.csv\"\n",
        "#import requests\n",
        "import pandas as pd\n",
        "\n",
        "def get_covid_daily_data(input_date):\n",
        "    csv_name = input_date + \".csv\"\n",
        "    github_url = \"https://raw.githubusercontent.com/CSSEGISandData/COVID-19/master/csse_covid_19_data/csse_covid_19_daily_reports/{}\".format(csv_name)\n",
        "    #response = requests.get(github_url)\n",
        "    df = pd.read_csv(github_url)\n",
        "    # df.head()\n",
        "    # df.tail()\n",
        "    df.to_csv(csv_name, index=False)\n",
        "\n",
        "user_input = input(\"Please input a date(mm-dd-yyyy):\")\n",
        "get_covid_daily_data(user_input)"
      ],
      "execution_count": 0,
      "outputs": [
        {
          "output_type": "stream",
          "text": [
            "Please input a date(mm-dd-yyyy):01-22-2020\n"
          ],
          "name": "stdout"
        }
      ]
    },
    {
      "cell_type": "code",
      "metadata": {
        "id": "mODlcsO4ChIH",
        "colab_type": "code",
        "outputId": "f2643cb2-9064-41a9-d1b9-7d4e6f4978cd",
        "colab": {
          "base_uri": "https://localhost:8080/",
          "height": 1000
        }
      },
      "source": [
        "from datetime import date, timedelta\n",
        "\n",
        "start_date = date(2020, 1, 22)\n",
        "#time_delta = timedelta(57)\n",
        "#end_date = start_date + time_delta\n",
        "date_period = [start_date + timedelta(i) for i in range(58)]\n",
        "data_dates = [i.strftime('%m-%d-%Y') for i in date_period]\n",
        "for dt in data_dates:\n",
        "    print(\"Downloading {}.csv...\".format(dt))\n",
        "    get_covid_daily_data(dt)"
      ],
      "execution_count": 0,
      "outputs": [
        {
          "output_type": "stream",
          "text": [
            "Downloading 01-22-2020.csv...\n",
            "Downloading 01-23-2020.csv...\n",
            "Downloading 01-24-2020.csv...\n",
            "Downloading 01-25-2020.csv...\n",
            "Downloading 01-26-2020.csv...\n",
            "Downloading 01-27-2020.csv...\n",
            "Downloading 01-28-2020.csv...\n",
            "Downloading 01-29-2020.csv...\n",
            "Downloading 01-30-2020.csv...\n",
            "Downloading 01-31-2020.csv...\n",
            "Downloading 02-01-2020.csv...\n",
            "Downloading 02-02-2020.csv...\n",
            "Downloading 02-03-2020.csv...\n",
            "Downloading 02-04-2020.csv...\n",
            "Downloading 02-05-2020.csv...\n",
            "Downloading 02-06-2020.csv...\n",
            "Downloading 02-07-2020.csv...\n",
            "Downloading 02-08-2020.csv...\n",
            "Downloading 02-09-2020.csv...\n",
            "Downloading 02-10-2020.csv...\n",
            "Downloading 02-11-2020.csv...\n",
            "Downloading 02-12-2020.csv...\n",
            "Downloading 02-13-2020.csv...\n",
            "Downloading 02-14-2020.csv...\n",
            "Downloading 02-15-2020.csv...\n",
            "Downloading 02-16-2020.csv...\n",
            "Downloading 02-17-2020.csv...\n",
            "Downloading 02-18-2020.csv...\n",
            "Downloading 02-19-2020.csv...\n",
            "Downloading 02-20-2020.csv...\n",
            "Downloading 02-21-2020.csv...\n",
            "Downloading 02-22-2020.csv...\n",
            "Downloading 02-23-2020.csv...\n",
            "Downloading 02-24-2020.csv...\n",
            "Downloading 02-25-2020.csv...\n",
            "Downloading 02-26-2020.csv...\n",
            "Downloading 02-27-2020.csv...\n",
            "Downloading 02-28-2020.csv...\n",
            "Downloading 02-29-2020.csv...\n",
            "Downloading 03-01-2020.csv...\n",
            "Downloading 03-02-2020.csv...\n",
            "Downloading 03-03-2020.csv...\n",
            "Downloading 03-04-2020.csv...\n",
            "Downloading 03-05-2020.csv...\n",
            "Downloading 03-06-2020.csv...\n",
            "Downloading 03-07-2020.csv...\n",
            "Downloading 03-08-2020.csv...\n",
            "Downloading 03-09-2020.csv...\n",
            "Downloading 03-10-2020.csv...\n",
            "Downloading 03-11-2020.csv...\n",
            "Downloading 03-12-2020.csv...\n",
            "Downloading 03-13-2020.csv...\n",
            "Downloading 03-14-2020.csv...\n",
            "Downloading 03-15-2020.csv...\n",
            "Downloading 03-16-2020.csv...\n",
            "Downloading 03-17-2020.csv...\n",
            "Downloading 03-18-2020.csv...\n",
            "Downloading 03-19-2020.csv...\n"
          ],
          "name": "stdout"
        }
      ]
    },
    {
      "cell_type": "code",
      "metadata": {
        "id": "JNlkNOXICuse",
        "colab_type": "code",
        "colab": {
          "base_uri": "https://localhost:8080/",
          "height": 119
        },
        "outputId": "961711df-5a34-4920-8e90-0ebbf04ae4f5"
      },
      "source": [
        "#隨堂練習\n",
        "\n",
        "movie_title=\"Avergers:endgames\"\n",
        "movie_rating=8.4\n",
        "movie_length=184\n",
        "\n",
        "print(movie_title)\n",
        "print(movie_rating)\n",
        "print(movie_length)\n",
        "\n",
        "print(type(movie_title))\n",
        "print(type(movie_length))\n",
        "print(type(movie_rating))"
      ],
      "execution_count": 5,
      "outputs": [
        {
          "output_type": "stream",
          "text": [
            "Avergers:endgames\n",
            "8.4\n",
            "184\n",
            "<class 'str'>\n",
            "<class 'int'>\n",
            "<class 'float'>\n"
          ],
          "name": "stdout"
        }
      ]
    },
    {
      "cell_type": "code",
      "metadata": {
        "id": "LO-YrsIaH2xY",
        "colab_type": "code",
        "colab": {}
      },
      "source": [
        ""
      ],
      "execution_count": 0,
      "outputs": []
    }
  ]
}