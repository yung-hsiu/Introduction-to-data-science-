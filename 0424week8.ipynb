{
  "nbformat": 4,
  "nbformat_minor": 0,
  "metadata": {
    "colab": {
      "name": "0424week8.ipynb",
      "provenance": [],
      "authorship_tag": "ABX9TyMEEDFiopdj1/64qPOD1IYU",
      "include_colab_link": true
    },
    "kernelspec": {
      "name": "python3",
      "display_name": "Python 3"
    }
  },
  "cells": [
    {
      "cell_type": "markdown",
      "metadata": {
        "id": "view-in-github",
        "colab_type": "text"
      },
      "source": [
        "<a href=\"https://colab.research.google.com/github/yung-hsiu/Introduction-to-data-science-/blob/master/0424week8.ipynb\" target=\"_parent\"><img src=\"https://colab.research.google.com/assets/colab-badge.svg\" alt=\"Open In Colab\"/></a>"
      ]
    },
    {
      "cell_type": "code",
      "metadata": {
        "id": "VnLuB1vx0OUK",
        "colab_type": "code",
        "colab": {}
      },
      "source": [
        "player_hight=float(imput(\"請輸入球員身高(公尺):\"))\n",
        "player_weight=float(input(\"請輸入球員體重(公斤):\"))\n",
        "player_bmi=player_weight/player_hight**2\n",
        "bmi_label=None\n",
        "if player_bmi>30:\n",
        "  bmi_label=\"obese\"\n",
        "elif player_bmi>25:\n",
        "  bmi_label=\"over weight\"\n",
        "elif player_bmi"
      ],
      "execution_count": 0,
      "outputs": []
    },
    {
      "cell_type": "code",
      "metadata": {
        "id": "kgei9KC36MIu",
        "colab_type": "code",
        "outputId": "dbf96a07-e4c4-4d49-ce0a-63874d939d3c",
        "colab": {
          "base_uri": "https://localhost:8080/",
          "height": 51
        }
      },
      "source": [
        "user_int = int(input(\"請輸入一個正整數：\"))\n",
        "if user_int % 3==0 and user_int % 5==0:\n",
        "  print(\"Fizz Buzz\")\n",
        "elif user_int % 3==0:\n",
        "  print(\"Fizz\")\n",
        "elif user_int % 5==0:\n",
        "  print(\"Buzz\")"
      ],
      "execution_count": 0,
      "outputs": [
        {
          "output_type": "stream",
          "text": [
            "請輸入一個正整數：25\n",
            "Buzz\n"
          ],
          "name": "stdout"
        }
      ]
    },
    {
      "cell_type": "code",
      "metadata": {
        "id": "om5BbITW96OL",
        "colab_type": "code",
        "outputId": "2bbe624e-16a7-4492-d1a6-7d5371be6dc4",
        "colab": {
          "base_uri": "https://localhost:8080/",
          "height": 187
        }
      },
      "source": [
        "i=2 #start\n",
        "while i <=20: #stop\n",
        "  print(i)\n",
        "  i += 2  #step  #可用visualize python來去跑跑看\n"
      ],
      "execution_count": 0,
      "outputs": [
        {
          "output_type": "stream",
          "text": [
            "2\n",
            "4\n",
            "6\n",
            "8\n",
            "10\n",
            "12\n",
            "14\n",
            "16\n",
            "18\n",
            "20\n"
          ],
          "name": "stdout"
        }
      ]
    },
    {
      "cell_type": "code",
      "metadata": {
        "id": "GZJj7p8vEekc",
        "colab_type": "code",
        "outputId": "baa1387f-a9df-4dae-a323-0bf684f43a7d",
        "colab": {
          "base_uri": "https://localhost:8080/",
          "height": 204
        }
      },
      "source": [
        "i=1 \n",
        "while i <=10: \n",
        "  print(i)\n",
        "  i += 1\n",
        "print(\"while loop is done.\")"
      ],
      "execution_count": 0,
      "outputs": [
        {
          "output_type": "stream",
          "text": [
            "1\n",
            "2\n",
            "3\n",
            "4\n",
            "5\n",
            "6\n",
            "7\n",
            "8\n",
            "9\n",
            "10\n",
            "while loop is done.\n"
          ],
          "name": "stdout"
        }
      ]
    },
    {
      "cell_type": "code",
      "metadata": {
        "id": "sHZ5wSi3PMAA",
        "colab_type": "code",
        "outputId": "e0782793-1d33-4e91-affd-d259e09596a1",
        "colab": {
          "base_uri": "https://localhost:8080/",
          "height": 34
        }
      },
      "source": [
        "i=1\n",
        "counter=1\n",
        "while i<10:\n",
        "  if i%2==0:\n",
        "    counter+=1\n",
        "  i+=1   #一定記得要縮排，不然i就會一直卡在4-5行\n",
        "print(counter)"
      ],
      "execution_count": 0,
      "outputs": [
        {
          "output_type": "stream",
          "text": [
            "5\n"
          ],
          "name": "stdout"
        }
      ]
    },
    {
      "cell_type": "code",
      "metadata": {
        "id": "sWCoLaeHQqCC",
        "colab_type": "code",
        "outputId": "b0fae4cc-8fbc-4c29-8cbd-29189a441ab4",
        "colab": {
          "base_uri": "https://localhost:8080/",
          "height": 34
        }
      },
      "source": [
        "i=1\n",
        "summation=0\n",
        "while i <=100:\n",
        "  summation += i\n",
        "  i+=1\n",
        "print(summation)"
      ],
      "execution_count": 0,
      "outputs": [
        {
          "output_type": "stream",
          "text": [
            "5050\n"
          ],
          "name": "stdout"
        }
      ]
    },
    {
      "cell_type": "code",
      "metadata": {
        "id": "jTvQYh8YS_Yq",
        "colab_type": "code",
        "outputId": "c014e535-dd19-460d-c5b5-7b5dbfc0dc10",
        "colab": {
          "base_uri": "https://localhost:8080/",
          "height": 153
        }
      },
      "source": [
        "start_int = int(input(\"請輸入起始的正整數：\"))\n",
        "stop_int = int(input(\"請輸入終止的正整數：\"))\n",
        "i=start_int\n",
        "while i<= stop_int:\n",
        "  if i %2==1:\n",
        "    print(i)\n",
        "  i+=1\n"
      ],
      "execution_count": 0,
      "outputs": [
        {
          "output_type": "stream",
          "text": [
            "請輸入起始的正整數：55\n",
            "請輸入終止的正整數：66\n",
            "55\n",
            "57\n",
            "59\n",
            "61\n",
            "63\n",
            "65\n"
          ],
          "name": "stdout"
        }
      ]
    },
    {
      "cell_type": "code",
      "metadata": {
        "id": "mcljSp5_WMRz",
        "colab_type": "code",
        "colab": {}
      },
      "source": [
        ""
      ],
      "execution_count": 0,
      "outputs": []
    }
  ]
}