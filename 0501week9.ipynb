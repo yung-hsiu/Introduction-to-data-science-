{
  "nbformat": 4,
  "nbformat_minor": 0,
  "metadata": {
    "colab": {
      "name": "0501week9.ipynb",
      "provenance": [],
      "authorship_tag": "ABX9TyO8/5sPkYNrslqRQhTVWxER",
      "include_colab_link": true
    },
    "kernelspec": {
      "name": "python3",
      "display_name": "Python 3"
    }
  },
  "cells": [
    {
      "cell_type": "markdown",
      "metadata": {
        "id": "view-in-github",
        "colab_type": "text"
      },
      "source": [
        "<a href=\"https://colab.research.google.com/github/yung-hsiu/Introduction-to-data-science-/blob/master/0501week9.ipynb\" target=\"_parent\"><img src=\"https://colab.research.google.com/assets/colab-badge.svg\" alt=\"Open In Colab\"/></a>"
      ]
    },
    {
      "cell_type": "code",
      "metadata": {
        "id": "oVypibzn7IIk",
        "colab_type": "code",
        "colab": {
          "base_uri": "https://localhost:8080/",
          "height": 221
        },
        "outputId": "e0025595-d88c-4649-f196-62df40fbb13a"
      },
      "source": [
        "#迴圈基礎\n",
        "x = int(input(\"請輸入起始的正整數：\"))\n",
        "y = int(input(\"請輸入終止的正整數：\"))\n",
        "i = x  #start\n",
        "while i <= y:  #stop\n",
        "  #test\n",
        "  print(i)\n",
        "  i+=1 #step"
      ],
      "execution_count": 1,
      "outputs": [
        {
          "output_type": "stream",
          "text": [
            "請輸入起始的正整數：1\n",
            "請輸入終止的正整數：10\n",
            "1\n",
            "2\n",
            "3\n",
            "4\n",
            "5\n",
            "6\n",
            "7\n",
            "8\n",
            "9\n",
            "10\n"
          ],
          "name": "stdout"
        }
      ]
    },
    {
      "cell_type": "code",
      "metadata": {
        "id": "ugLoQfClC_W-",
        "colab_type": "code",
        "colab": {
          "base_uri": "https://localhost:8080/",
          "height": 85
        },
        "outputId": "c8db570c-6542-4b1f-d2c9-286059cb1ad7"
      },
      "source": [
        "#隨堂練習\n",
        "#(1)印出介於 x 到 y 之間的奇數（包含 x 與 y 假如它們是奇數）\n",
        "\n",
        "x = int(input(\"請輸入起始的正整數：\"))\n",
        "y = int(input(\"請輸入終止的正整數：\"))\n",
        "i = x  #start\n",
        "while i <= y:  #stop\n",
        "  #test\n",
        "  if i %2==1:\n",
        "    print(i) #print跟著if函數\n",
        "  i+=1 #step跟者while迴圈"
      ],
      "execution_count": 2,
      "outputs": [
        {
          "output_type": "stream",
          "text": [
            "請輸入起始的正整數：5\n",
            "請輸入終止的正整數：7\n",
            "5\n",
            "7\n"
          ],
          "name": "stdout"
        }
      ]
    },
    {
      "cell_type": "code",
      "metadata": {
        "id": "2NXmU1K8EeRU",
        "colab_type": "code",
        "colab": {
          "base_uri": "https://localhost:8080/",
          "height": 68
        },
        "outputId": "a0889389-8794-41b1-f319-b0387b4fdaf2"
      },
      "source": [
        "#(2)承接上題，介於 x 到 y 之間的奇數有幾個（包含 x 與 y 假如它們是奇數）\n",
        "x = int(input(\"請輸入起始的正整數：\"))\n",
        "y = int(input(\"請輸入終止的正整數：\"))\n",
        "odd_counter=0  #歸零\n",
        "i = x  #start \n",
        "while i <= y: #stop\n",
        "  if i%2 ==1:\n",
        "    #odd_counter = odd_counter + 1\n",
        "    odd_counter += 1  #跟著if函數\n",
        "  i += 1  #跟著while迴圈 #step\n",
        "print(odd_counter)"
      ],
      "execution_count": 5,
      "outputs": [
        {
          "output_type": "stream",
          "text": [
            "請輸入起始的正整數：5\n",
            "請輸入終止的正整數：10\n",
            "3\n"
          ],
          "name": "stdout"
        }
      ]
    },
    {
      "cell_type": "code",
      "metadata": {
        "id": "QopRiX0LG9V0",
        "colab_type": "code",
        "colab": {
          "base_uri": "https://localhost:8080/",
          "height": 85
        },
        "outputId": "1541a630-1221-402e-9392-43f14939084c"
      },
      "source": [
        "#(3)承接上題，介於 x 到 y 之間的奇數加總為何（包含 x 與 y 假如它們是奇數）\n",
        "x = int(input(\"請輸入起始的正整數：\"))\n",
        "y = int(input(\"請輸入終止的正整數：\"))\n",
        "odd_summation=0  #歸零\n",
        "i = x  #start \n",
        "while i <= y: #stop\n",
        "  if i%2 ==1:\n",
        "    #odd_summation = odd_summation + i\n",
        "    odd_summation += i  #跟著if函數\n",
        "  i += 1  #跟著while迴圈 #step\n",
        "print(\"=========\")\n",
        "print(odd_summation)"
      ],
      "execution_count": 7,
      "outputs": [
        {
          "output_type": "stream",
          "text": [
            "請輸入起始的正整數：5\n",
            "請輸入終止的正整數：10\n",
            "=========\n",
            "21\n"
          ],
          "name": "stdout"
        }
      ]
    },
    {
      "cell_type": "code",
      "metadata": {
        "id": "-buvybk6ILbZ",
        "colab_type": "code",
        "colab": {
          "base_uri": "https://localhost:8080/",
          "height": 493
        },
        "outputId": "ff4c707b-d318-4928-ca0e-234613a9e722"
      },
      "source": [
        "#(4)判斷質數\n",
        "x = int(input(\"請輸入起始的正整數：\"))\n",
        "i =1  #start\n",
        "divisor_counter=0  #歸零\n",
        "while i<=x:        #stop\n",
        "  if x % i==0:\n",
        "    divisor_counter += 1\n",
        "    print(\"{}可以被{}整除\".format(x,i))\n",
        "    print(\"因數個數目前有{}個\".format(divisor_counter))\n",
        "    print(\"======\")\n",
        "  i +=1 #step\n",
        "print(\"anser\")\n",
        "print(\"{}共有{}個因數\".format(x , divisor_counter))\n",
        "if divisor_counter==2:\n",
        " print(\"{}不是質數\".format(x))\n",
        "else :\n",
        "  print(\"{}不是質數\".format(x))"
      ],
      "execution_count": 11,
      "outputs": [
        {
          "output_type": "stream",
          "text": [
            "請輸入起始的正整數：56\n",
            "56可以被1整除\n",
            "因數個數目前有1個\n",
            "======\n",
            "56可以被2整除\n",
            "因數個數目前有2個\n",
            "======\n",
            "56可以被4整除\n",
            "因數個數目前有3個\n",
            "======\n",
            "56可以被7整除\n",
            "因數個數目前有4個\n",
            "======\n",
            "56可以被8整除\n",
            "因數個數目前有5個\n",
            "======\n",
            "56可以被14整除\n",
            "因數個數目前有6個\n",
            "======\n",
            "56可以被28整除\n",
            "因數個數目前有7個\n",
            "======\n",
            "56可以被56整除\n",
            "因數個數目前有8個\n",
            "======\n",
            "anser\n",
            "56共有8個因數\n",
            "56不是質數\n"
          ],
          "name": "stdout"
        }
      ]
    },
    {
      "cell_type": "code",
      "metadata": {
        "id": "L1f8AFJSUJC_",
        "colab_type": "code",
        "colab": {
          "base_uri": "https://localhost:8080/",
          "height": 1000
        },
        "outputId": "ae282b68-08bc-440b-c050-eb58f51772e7"
      },
      "source": [
        "#(5)Fizz-Buzz with while\n",
        "\n",
        "i=1 #star\n",
        "while i <=100 : #stop\n",
        "  if i % 15==0:\n",
        "    print(\"fizz buzz\")\n",
        "  elif i %3==0:\n",
        "    print(\"fizz\")\n",
        "  elif i %5==0:\n",
        "    print(\"buzz\")\n",
        "  else:\n",
        "    print(i)\n",
        "  i+=1 #step"
      ],
      "execution_count": 12,
      "outputs": [
        {
          "output_type": "stream",
          "text": [
            "1\n",
            "2\n",
            "fizz\n",
            "4\n",
            "buzz\n",
            "fizz\n",
            "7\n",
            "8\n",
            "fizz\n",
            "buzz\n",
            "11\n",
            "fizz\n",
            "13\n",
            "14\n",
            "fizz buzz\n",
            "16\n",
            "17\n",
            "fizz\n",
            "19\n",
            "buzz\n",
            "fizz\n",
            "22\n",
            "23\n",
            "fizz\n",
            "buzz\n",
            "26\n",
            "fizz\n",
            "28\n",
            "29\n",
            "fizz buzz\n",
            "31\n",
            "32\n",
            "fizz\n",
            "34\n",
            "buzz\n",
            "fizz\n",
            "37\n",
            "38\n",
            "fizz\n",
            "buzz\n",
            "41\n",
            "fizz\n",
            "43\n",
            "44\n",
            "fizz buzz\n",
            "46\n",
            "47\n",
            "fizz\n",
            "49\n",
            "buzz\n",
            "fizz\n",
            "52\n",
            "53\n",
            "fizz\n",
            "buzz\n",
            "56\n",
            "fizz\n",
            "58\n",
            "59\n",
            "fizz buzz\n",
            "61\n",
            "62\n",
            "fizz\n",
            "64\n",
            "buzz\n",
            "fizz\n",
            "67\n",
            "68\n",
            "fizz\n",
            "buzz\n",
            "71\n",
            "fizz\n",
            "73\n",
            "74\n",
            "fizz buzz\n",
            "76\n",
            "77\n",
            "fizz\n",
            "79\n",
            "buzz\n",
            "fizz\n",
            "82\n",
            "83\n",
            "fizz\n",
            "buzz\n",
            "86\n",
            "fizz\n",
            "88\n",
            "89\n",
            "fizz buzz\n",
            "91\n",
            "92\n",
            "fizz\n",
            "94\n",
            "buzz\n",
            "fizz\n",
            "97\n",
            "98\n",
            "fizz\n",
            "buzz\n"
          ],
          "name": "stdout"
        }
      ]
    },
    {
      "cell_type": "code",
      "metadata": {
        "id": "aFDrR7hJZXuH",
        "colab_type": "code",
        "colab": {}
      },
      "source": [
        ""
      ],
      "execution_count": 0,
      "outputs": []
    }
  ]
}