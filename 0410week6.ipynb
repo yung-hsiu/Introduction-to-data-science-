{
  "nbformat": 4,
  "nbformat_minor": 0,
  "metadata": {
    "colab": {
      "name": "0410week6.ipynb",
      "provenance": [],
      "authorship_tag": "ABX9TyN1bY43lz+gcqqQ3RrtVghl",
      "include_colab_link": true
    },
    "kernelspec": {
      "name": "python3",
      "display_name": "Python 3"
    }
  },
  "cells": [
    {
      "cell_type": "markdown",
      "metadata": {
        "id": "view-in-github",
        "colab_type": "text"
      },
      "source": [
        "<a href=\"https://colab.research.google.com/github/yung-hsiu/Introduction-to-data-science-/blob/master/0410week6.ipynb\" target=\"_parent\"><img src=\"https://colab.research.google.com/assets/colab-badge.svg\" alt=\"Open In Colab\"/></a>"
      ]
    },
    {
      "cell_type": "code",
      "metadata": {
        "id": "tKy9Vnf-PW76",
        "colab_type": "code",
        "outputId": "ae1fead2-b9d5-4ca4-fe08-380fb7b71f0b",
        "colab": {
          "base_uri": "https://localhost:8080/",
          "height": 68
        }
      },
      "source": [
        "#隨堂練習\n",
        "#(1)月薪超過 4 萬或存款超過 50 萬就發信用卡\n",
        "\n",
        "monthly_income = input(\"請輸入月薪：\")\n",
        "saving_account = input(\"請輸入存款：\")\n",
        "\n",
        "monthly_income=int(monthly_income)\n",
        "saving_account=int(saving_account)\n",
        "\n",
        "if (monthly_income>=40000 or saving_account>=500000):\n",
        "  print(\"發信用卡\")"
      ],
      "execution_count": 0,
      "outputs": [
        {
          "output_type": "stream",
          "text": [
            "請輸入月薪：40000\n",
            "請輸入存款：0\n",
            "發信用卡\n"
          ],
          "name": "stdout"
        }
      ]
    },
    {
      "cell_type": "code",
      "metadata": {
        "id": "iC8GV_UTQRDN",
        "colab_type": "code",
        "colab": {}
      },
      "source": [
        "#(2)判斷奇數偶數\n"
      ],
      "execution_count": 0,
      "outputs": []
    }
  ]
}