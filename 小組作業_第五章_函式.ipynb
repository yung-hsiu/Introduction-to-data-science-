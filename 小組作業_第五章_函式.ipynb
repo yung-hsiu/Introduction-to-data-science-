{
  "nbformat": 4,
  "nbformat_minor": 0,
  "metadata": {
    "colab": {
      "name": "函式.ipynb",
      "provenance": [],
      "collapsed_sections": []
    },
    "kernelspec": {
      "name": "python3",
      "display_name": "Python 3"
    }
  },
  "cells": [
    {
      "cell_type": "markdown",
      "metadata": {
        "id": "gS_tzemxZx3U",
        "colab_type": "text"
      },
      "source": [
        "**綜合範例11**\n",
        "\n",
        "試撰寫一程式，在main()函式輸入一整數n，將此整數傳給randNum()函式，用以顯示n個介於1到100的亂數。若n大於10，則每一列印出十個亂數。"
      ]
    },
    {
      "cell_type": "code",
      "metadata": {
        "id": "hQIBzD85pg7m",
        "colab_type": "code",
        "outputId": "a3d184c6-b7ed-4bd7-af48-fe2ad9120fda",
        "colab": {
          "base_uri": "https://localhost:8080/",
          "height": 87
        }
      },
      "source": [
        "import random \n",
        "def randNum(num):\n",
        "  for i in range(1, num+1):\n",
        "    rn = random.randint(1, 100)\n",
        "    if i % 10 == 0:\n",
        "      print('%4d'%(rn))\n",
        "    else:\n",
        "      print('%4d'%(rn),end='')\n",
        "def main():\n",
        "  n=eval(input())\n",
        "  randNum(n)\n",
        "main()"
      ],
      "execution_count": 0,
      "outputs": [
        {
          "output_type": "stream",
          "text": [
            "30\n",
            "  24  54  33  85  74  49  22  53  73  68\n",
            "  32  33   6  76  38  56   6  64  33  85\n",
            "  72  10  30  97  73  86  53  48  63  81\n"
          ],
          "name": "stdout"
        }
      ]
    },
    {
      "cell_type": "code",
      "metadata": {
        "id": "2PvGDcURhEOx",
        "colab_type": "code",
        "outputId": "1447268b-983f-4a0c-898a-17890331d7c5",
        "colab": {
          "base_uri": "https://localhost:8080/",
          "height": 208
        }
      },
      "source": [
        "import random \n",
        "def randNum(num):\n",
        "  for i in range(1, num+1):\n",
        "    rn = random.randint(1, 100)\n",
        "    if i % 10 == 0:\n",
        "      print('%4d'%(rn))\n",
        "    else:\n",
        "      print('%4d'%(rn),end='')\n",
        "def main():\n",
        "  n=eval(input())\n",
        "  randNum(n)\n",
        "main()"
      ],
      "execution_count": 0,
      "outputs": [
        {
          "output_type": "stream",
          "text": [
            "100\n",
            "   2  54  10  88  19  77  99  86  11  48\n",
            "  49  99  19   6  21   9   5  73  68  27\n",
            "  85  17  19  49   8  16  49   9  58  54\n",
            "  96  40  14  31  41  52  71  83  18  42\n",
            "  38  67  12  62  33  46   4  93 100  41\n",
            "  60  96  87  47  64  36  97  21  18  99\n",
            "  99  63  45  96  51  85  53  51  14  63\n",
            "  13  65   3  35  89  92  86  65   8  60\n",
            "  10  34  58  80  37  54  81  51  43  85\n",
            "  35  86  65  68  46  87  60  13  45  43\n"
          ],
          "name": "stdout"
        }
      ]
    },
    {
      "cell_type": "markdown",
      "metadata": {
        "id": "vlx_su_-eGQM",
        "colab_type": "text"
      },
      "source": [
        "**綜合範例12**\n",
        "\n",
        "試撰寫一程式，在mine()函式輸入一年份year，將此整數傳給isLeap()函式，用以顯示year是否為閏年。"
      ]
    },
    {
      "cell_type": "code",
      "metadata": {
        "id": "mEYGfkd0eGwL",
        "colab_type": "code",
        "outputId": "7804598c-f873-4e23-bc43-241ecb2c9174",
        "colab": {
          "base_uri": "https://localhost:8080/",
          "height": 52
        }
      },
      "source": [
        "def isLeap(y):\n",
        "  if y % 400 == 0 or (y % 4 == 0 and y % 100 !=0):\n",
        "    print('%d is a leap year.'%(y))\n",
        "  else:\n",
        "    print('%d is not a leap year.'%(y))\n",
        "def main():\n",
        "  year = eval(input())\n",
        "  isLeap(year)\n",
        "  \n",
        "main()"
      ],
      "execution_count": 0,
      "outputs": [
        {
          "output_type": "stream",
          "text": [
            "2018\n",
            "2018 is not a leap year.\n"
          ],
          "name": "stdout"
        }
      ]
    },
    {
      "cell_type": "code",
      "metadata": {
        "id": "2oUb5liYg5yT",
        "colab_type": "code",
        "outputId": "313f926e-215a-4a61-cb71-0768eb91244b",
        "colab": {
          "base_uri": "https://localhost:8080/",
          "height": 52
        }
      },
      "source": [
        "def isLeap(y):\n",
        "  if y % 400 == 0 or (y % 4 == 0 and y % 100 !=0):\n",
        "    print('%d is a leap year.'%(y))\n",
        "  else:\n",
        "    print('%d is not a leap year.'%(y))\n",
        "def main():\n",
        "  year = eval(input())\n",
        "  isLeap(year)\n",
        "  \n",
        "main()"
      ],
      "execution_count": 0,
      "outputs": [
        {
          "output_type": "stream",
          "text": [
            "2020\n",
            "2020 is a leap year.\n"
          ],
          "name": "stdout"
        }
      ]
    },
    {
      "cell_type": "markdown",
      "metadata": {
        "id": "8FVb2R6ohIr3",
        "colab_type": "text"
      },
      "source": [
        "**綜合範例 13**\n",
        "\n",
        "試撰寫一程式，在main()函式利用不定數迴圈輸入一年份year，將此整數傳給isLeap()函式，用以顯示year是否為閏年。當輸入的年份是-9999時，則結束輸入的動作。"
      ]
    },
    {
      "cell_type": "code",
      "metadata": {
        "id": "1dus4E4PjhVq",
        "colab_type": "code",
        "outputId": "80dd8580-eccb-4f72-d0a8-dc59181cc024",
        "colab": {
          "base_uri": "https://localhost:8080/",
          "height": 173
        }
      },
      "source": [
        "def isLeap(y):\n",
        "  if y % 400 == 0 or (y % 4 == 0 and y % 100 != 0):\n",
        "    print('%d is a leap year.' %(y))\n",
        "  else:\n",
        "    print('%d is not a leap year.'%(y))\n",
        "def main():\n",
        "  while True:\n",
        "    year = eval(input())\n",
        "    if year != -9999:\n",
        "      isLeap(year)\n",
        "    else:\n",
        "      break\n",
        "\n",
        "main()"
      ],
      "execution_count": 0,
      "outputs": [
        {
          "output_type": "stream",
          "text": [
            "2018\n",
            "2018 is not a leap year.\n",
            "2020\n",
            "2020 is a leap year.\n",
            "2030\n",
            "2030 is not a leap year.\n",
            "2040\n",
            "2040 is a leap year.\n",
            "-9999\n"
          ],
          "name": "stdout"
        }
      ]
    },
    {
      "cell_type": "markdown",
      "metadata": {
        "id": "iKCODAYpl-L8",
        "colab_type": "text"
      },
      "source": [
        "**綜合範例 14**\n",
        "\n",
        "試撰寫一程式，在main()函式輸入一正整數n，將此整數傳給factor()函式，用以顯示1-n的階層。"
      ]
    },
    {
      "cell_type": "code",
      "metadata": {
        "id": "JFNm2Yz1l-ZI",
        "colab_type": "code",
        "colab": {}
      },
      "source": [
        "def factor(k):\n",
        "  for i in range(1, k+1):\n",
        "    factor=1\n",
        "    print('2%d! = '%(i),end='')\n",
        "    for j in range(1, i+1):\n",
        "      factor *= j\n",
        "    print(factor)\n",
        "\n",
        "def main():\n",
        "  n= eval(input())\n",
        "  factor(n)\n",
        "\n",
        "main()"
      ],
      "execution_count": 0,
      "outputs": []
    },
    {
      "cell_type": "markdown",
      "metadata": {
        "id": "lZm_m6jfjOdY",
        "colab_type": "text"
      },
      "source": [
        "**綜合範例 15**\n",
        "\n",
        "試撰寫一程式，在 min() 函式輸入 n ，表示有幾個邊，再輸入 g ，表示邊長，將這兩個整數傳給 nEdge() 函式，用以計算 n 邊形面積。最後將其顯示之。\n",
        "\n",
        "*提示:n邊形的計算公式如下: area = n*s^2/4*tan(π/n)\n",
        "\n"
      ]
    },
    {
      "cell_type": "code",
      "metadata": {
        "id": "TSVr535u9suU",
        "colab_type": "code",
        "outputId": "7f39b15a-089e-4036-cc9f-22e063610732",
        "colab": {
          "base_uri": "https://localhost:8080/",
          "height": 70
        }
      },
      "source": [
        "import math\n",
        "def nEdge(n, g):\n",
        "  area = (n * g**2) / (4 * math.tan(math.pi/n))\n",
        "  print('area = %.2f'%(area))\n",
        "\n",
        "def main():\n",
        "  n = eval(input())\n",
        "  g = eval(input())\n",
        "  nEdge(n, g)\n",
        "\n",
        "main()"
      ],
      "execution_count": 0,
      "outputs": [
        {
          "output_type": "stream",
          "text": [
            "5\n",
            "6.5\n",
            "area = 72.69\n"
          ],
          "name": "stdout"
        }
      ]
    },
    {
      "cell_type": "markdown",
      "metadata": {
        "id": "5SdymM_RmS9R",
        "colab_type": "text"
      },
      "source": [
        "**習題 1**\n",
        "\n",
        "試撰寫一程式，以一multiply99() 函式顯示九九乘法表，以一函式 printStar() 印出 72 個 * 。"
      ]
    },
    {
      "cell_type": "code",
      "metadata": {
        "id": "u4IPoTdFnWvz",
        "colab_type": "code",
        "outputId": "0160bc1d-4f5a-41bc-e9cf-b0a610bcc6b9",
        "colab": {
          "base_uri": "https://localhost:8080/",
          "height": 210
        }
      },
      "source": [
        "def multiply99():\n",
        "  for i in range(1, 10):\n",
        "    for j in range(1, 10):\n",
        "      print('%d*%d=%2d '%(j, i, i*j), end=' ')\n",
        "    print()\n",
        "\n",
        "def prinStar():\n",
        "  for i in range(72):\n",
        "    print('*', end = '')\n",
        "  print()\n",
        "\n",
        "def main():\n",
        "  prinStar()\n",
        "  multiply99()\n",
        "  prinStar()\n",
        "\n",
        "main()"
      ],
      "execution_count": 0,
      "outputs": [
        {
          "output_type": "stream",
          "text": [
            "************************************************************************\n",
            "1*1= 1  2*1= 2  3*1= 3  4*1= 4  5*1= 5  6*1= 6  7*1= 7  8*1= 8  9*1= 9  \n",
            "1*2= 2  2*2= 4  3*2= 6  4*2= 8  5*2=10  6*2=12  7*2=14  8*2=16  9*2=18  \n",
            "1*3= 3  2*3= 6  3*3= 9  4*3=12  5*3=15  6*3=18  7*3=21  8*3=24  9*3=27  \n",
            "1*4= 4  2*4= 8  3*4=12  4*4=16  5*4=20  6*4=24  7*4=28  8*4=32  9*4=36  \n",
            "1*5= 5  2*5=10  3*5=15  4*5=20  5*5=25  6*5=30  7*5=35  8*5=40  9*5=45  \n",
            "1*6= 6  2*6=12  3*6=18  4*6=24  5*6=30  6*6=36  7*6=42  8*6=48  9*6=54  \n",
            "1*7= 7  2*7=14  3*7=21  4*7=28  5*7=35  6*7=42  7*7=49  8*7=56  9*7=63  \n",
            "1*8= 8  2*8=16  3*8=24  4*8=32  5*8=40  6*8=48  7*8=56  8*8=64  9*8=72  \n",
            "1*9= 9  2*9=18  3*9=27  4*9=36  5*9=45  6*9=54  7*9=63  8*9=72  9*9=81  \n",
            "************************************************************************\n"
          ],
          "name": "stdout"
        }
      ]
    },
    {
      "cell_type": "markdown",
      "metadata": {
        "id": "SHpie4wjpxOk",
        "colab_type": "text"
      },
      "source": [
        "**習題 2**\n",
        "\n",
        "試撰寫一程式，在 main() 函式中輸入一學生的分數，將此分數傳給一計算 gpa 的函式，最後顯示此分數的 gpa 為何。"
      ]
    },
    {
      "cell_type": "code",
      "metadata": {
        "id": "Ifq2yaPaqckE",
        "colab_type": "code",
        "colab": {}
      },
      "source": [
        "def gpa(s):\n",
        "  if 90 <= s <= 100:\n",
        "    grade = 'A'\n",
        "  elif 80 <= s <= 89:\n",
        "    grade = 'B'\n",
        "  elif 70 <= s <= 79:\n",
        "    grade = 'C'\n",
        "  elif 60 <= s <= 69:\n",
        "    grade = 'D'\n",
        "  else:\n",
        "    grade = 'E'\n",
        "  return grade\n",
        "\n",
        "def main():"
      ],
      "execution_count": 0,
      "outputs": []
    },
    {
      "cell_type": "code",
      "metadata": {
        "id": "CpoP-9Okn4l4",
        "colab_type": "code",
        "colab": {}
      },
      "source": [
        ""
      ],
      "execution_count": 0,
      "outputs": []
    },
    {
      "cell_type": "markdown",
      "metadata": {
        "id": "WDXpg1ekGK4G",
        "colab_type": "text"
      },
      "source": [
        "習題三\n",
        "\n",
        "試攥寫一程式，在main()函式中輸入一身高和體重，將此身高和體重將此身高和體重玩給一計算BMI的函式，最後顯示此身高和體重的BMI為何。"
      ]
    },
    {
      "cell_type": "code",
      "metadata": {
        "id": "44gAbBeDGO_E",
        "colab_type": "code",
        "outputId": "2115d9b3-51d6-4485-e255-003ee05aab66",
        "colab": {
          "base_uri": "https://localhost:8080/",
          "height": 68
        }
      },
      "source": [
        "def bmi(hh,ww):\n",
        "    bmi = ww / (hh/100)**2\n",
        "    if bmi < 18.5:\n",
        "        return \"under weight\"\n",
        "    elif 18.5 <= bmi < 25:\n",
        "        return \"normal\"\n",
        "    elif 25.0 <= bmi < 30:\n",
        "        return \"over weight\"\n",
        "    else:\n",
        "        return \"fat\"\n",
        "    \n",
        "def main():\n",
        "    #intput height\n",
        "    height = eval(input())\n",
        "    #input weight\n",
        "    weight = eval(input())\n",
        "    bb = bmi(height , weight)\n",
        "    print(\"Your bmi is %s\"%(bb))\n",
        "    \n",
        "main()\n",
        "    "
      ],
      "execution_count": 0,
      "outputs": [
        {
          "output_type": "stream",
          "text": [
            "184\n",
            "69\n",
            "Your bmi is normal\n"
          ],
          "name": "stdout"
        }
      ]
    },
    {
      "cell_type": "code",
      "metadata": {
        "id": "Z87wmvjoGSLa",
        "colab_type": "code",
        "outputId": "685740c3-59be-4d00-ae76-1013954f2379",
        "colab": {
          "base_uri": "https://localhost:8080/",
          "height": 68
        }
      },
      "source": [
        "main()"
      ],
      "execution_count": 0,
      "outputs": [
        {
          "output_type": "stream",
          "text": [
            "175\n",
            "88\n",
            "Your bmi is over weight\n"
          ],
          "name": "stdout"
        }
      ]
    },
    {
      "cell_type": "code",
      "metadata": {
        "id": "66jlXXfwGcTw",
        "colab_type": "code",
        "colab": {}
      },
      "source": [
        ""
      ],
      "execution_count": 0,
      "outputs": []
    },
    {
      "cell_type": "markdown",
      "metadata": {
        "id": "w6qh-jskGgHN",
        "colab_type": "text"
      },
      "source": [
        "習題四\n",
        "\n",
        "試攥寫一程式，在main()函式中呼叫totalAndmean()函式，輸入十筆資料計算總和與平均數，最後將總和與平均數回傳給mean()加以印出。"
      ]
    },
    {
      "cell_type": "code",
      "metadata": {
        "id": "imCFLWtSGjhm",
        "colab_type": "code",
        "outputId": "967bcffb-b3c3-48d7-c069-873059ee9480",
        "colab": {
          "base_uri": "https://localhost:8080/",
          "height": 204
        }
      },
      "source": [
        "def totalAndmean():\n",
        "    total = 0\n",
        "    for i in range(1,11):\n",
        "        n = eval(input())\n",
        "        total += n \n",
        "    mean = total / 10\n",
        "    return total , mean\n",
        "\n",
        "def main():\n",
        "    sum, average = totalAndmean()\n",
        "    print(\"sum = %.2f, mean = %.2f\"%(sum, average))\n",
        "\n",
        "main()"
      ],
      "execution_count": 0,
      "outputs": [
        {
          "output_type": "stream",
          "text": [
            "1\n",
            "2\n",
            "3\n",
            "4\n",
            "5\n",
            "6\n",
            "7\n",
            "8\n",
            "9\n",
            "10\n",
            "sum = 55.00, mean = 5.50\n"
          ],
          "name": "stdout"
        }
      ]
    },
    {
      "cell_type": "markdown",
      "metadata": {
        "id": "NKUsH6R9HBDZ",
        "colab_type": "text"
      },
      "source": [
        "習題五\n",
        "\n",
        "試攥寫一程式，在main()函式中輸入兩個點座標x與y（x與y皆為整數），將這兩座標傳給一計算將這兩座標傳給一計算此兩點之間距離的distance函式，並加以顯示這兩個點座標及其距離。"
      ]
    },
    {
      "cell_type": "code",
      "metadata": {
        "id": "a83XPyJlHCxS",
        "colab_type": "code",
        "outputId": "aeae6c48-b779-4449-ad66-14368767d3e3",
        "colab": {
          "base_uri": "https://localhost:8080/",
          "height": 68
        }
      },
      "source": [
        "import math \n",
        "def distance(x1, y1, x2, y2):\n",
        "    dis= math.sqrt((x2 - x1) ** 2 + (y2 - y1) ** 2)\n",
        "    return dis\n",
        "\n",
        "def main():\n",
        "    a, b = eval(input())\n",
        "    c, d = eval(input())\n",
        "    dd = distance(a, b, c, d)\n",
        "    print(\"The distance of (%d, %d), (%d, %d) = %.2f\"%(a, b, c, d, dd))\n",
        "    \n",
        "main()\n"
      ],
      "execution_count": 0,
      "outputs": [
        {
          "output_type": "stream",
          "text": [
            "1, 1\n",
            "5, 8\n",
            "The distance of (1, 1), (5, 8) = 8.06\n"
          ],
          "name": "stdout"
        }
      ]
    },
    {
      "cell_type": "code",
      "metadata": {
        "id": "NY2XEj33HF9I",
        "colab_type": "code",
        "colab": {}
      },
      "source": [
        ""
      ],
      "execution_count": 0,
      "outputs": []
    }
  ]
}