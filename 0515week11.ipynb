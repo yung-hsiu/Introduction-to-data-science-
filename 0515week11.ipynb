{
  "nbformat": 4,
  "nbformat_minor": 0,
  "metadata": {
    "colab": {
      "name": "0515week11.ipynb",
      "provenance": [],
      "authorship_tag": "ABX9TyOABfX3s6yElMsEEtAa3wP9",
      "include_colab_link": true
    },
    "kernelspec": {
      "name": "python3",
      "display_name": "Python 3"
    }
  },
  "cells": [
    {
      "cell_type": "markdown",
      "metadata": {
        "id": "view-in-github",
        "colab_type": "text"
      },
      "source": [
        "<a href=\"https://colab.research.google.com/github/yung-hsiu/Introduction-to-data-science-/blob/master/0515week11.ipynb\" target=\"_parent\"><img src=\"https://colab.research.google.com/assets/colab-badge.svg\" alt=\"Open In Colab\"/></a>"
      ]
    },
    {
      "cell_type": "code",
      "metadata": {
        "id": "jZ5kz6p2Bv1T",
        "colab_type": "code",
        "colab": {
          "base_uri": "https://localhost:8080/",
          "height": 51
        },
        "outputId": "a3f03e3b-b5e4-4c77-e8db-015e3c30df43"
      },
      "source": [
        "#法一\n",
        "living_area=input(\"請輸入你所居住的地區:\")\n",
        "living_cost=None\n",
        "if living_area ==\"台北市\":\n",
        "  living_cost = 17005\n",
        "elif living_cost ==\"新北市\":\n",
        "  living_cost = 15500\n",
        "elif living_cost ==\"桃園市\":\n",
        "  living_cost = 15281\n",
        "elif living_cost ==\"台中市\":\n",
        "  living_cost = 14596\n",
        "elif living_cost ==\"台南市\":\n",
        "  living_cost = 12388\n",
        "elif living_cost ==\"高雄市\":\n",
        "  living_cost = 13099\n",
        "elif living_cost ==\"非六都縣市\":\n",
        "  living_cost = 12388\n",
        "elif living_cost ==\"金門連江縣\":\n",
        "  living_cost = 11684\n",
        "\n",
        "if living_cost is None:\n",
        "  print(\"請重新輸入居住的縣市\")\n",
        "else:\n",
        "  print(\"{}的每人每月最低生活費為{:,}\".format(living_area,living_cost))"
      ],
      "execution_count": 11,
      "outputs": [
        {
          "output_type": "stream",
          "text": [
            "請輸入你所居住的地區:台北市\n",
            "台北市的每人每月最低生活費為17,005\n"
          ],
          "name": "stdout"
        }
      ]
    },
    {
      "cell_type": "code",
      "metadata": {
        "id": "65ZsJUS2KEu0",
        "colab_type": "code",
        "colab": {
          "base_uri": "https://localhost:8080/",
          "height": 51
        },
        "outputId": "a69843f1-a298-4179-a0e9-45dbb1f10b46"
      },
      "source": [
        "living_cost_dict={\n",
        "    \"台北市\":17005,\n",
        "    \"新北市\":15500,\n",
        "    \"桃園市\":15281,\n",
        "    \"台中市\":14596,\n",
        "    \"台南市\":12388,\n",
        "    \"高雄市\":13099,\n",
        "    \"非六都城市\":12388,\n",
        "    \"金門連江縣\":11684\n",
        "}\n",
        "\n",
        "living_area=input(\"請輸入居住城市:\")\n",
        "living_cost=living_cost_dict[living_area]\n",
        "print(\"{}的每人每月最低生活費為{:,}\".format(living_area,living_cost))"
      ],
      "execution_count": 13,
      "outputs": [
        {
          "output_type": "stream",
          "text": [
            "請輸入居住城市:台北市\n",
            "台北市的每人每月最低生活費為17,005\n"
          ],
          "name": "stdout"
        }
      ]
    },
    {
      "cell_type": "code",
      "metadata": {
        "id": "M9QK6rUNLtY0",
        "colab_type": "code",
        "colab": {
          "base_uri": "https://localhost:8080/",
          "height": 51
        },
        "outputId": "14f24aea-d862-445f-ddff-6830bdc89a64"
      },
      "source": [
        "#處理keyError，像是輸入\"花蓮市\"時\n",
        "living_cost_dict={\n",
        "    \"台北市\":17005,\n",
        "    \"新北市\":15500,\n",
        "    \"桃園市\":15281,\n",
        "    \"台中市\":14596,\n",
        "    \"台南市\":12388,\n",
        "    \"高雄市\":13099,\n",
        "    \"非六都城市\":12388,\n",
        "    \"金門連江縣\":11684\n",
        "}\n",
        "living_area=input(\"請輸入你居住的縣市:\")\n",
        "try:\n",
        "  living_cost=living_cost_dict[living_area]\n",
        "  print(\"{}的每人每月最低生活費為{:,}\".format(living_area,living_cost))\n",
        "except KeyError:\n",
        "  print(\"!!!請重新輸入你的居住城市!!!\")\n"
      ],
      "execution_count": 21,
      "outputs": [
        {
          "output_type": "stream",
          "text": [
            "請輸入你居住的縣市:花蓮市\n",
            "!!!請重新輸入你的居住城市!!!\n"
          ],
          "name": "stdout"
        }
      ]
    },
    {
      "cell_type": "code",
      "metadata": {
        "id": "ROX0tLx4Rrej",
        "colab_type": "code",
        "colab": {
          "base_uri": "https://localhost:8080/",
          "height": 51
        },
        "outputId": "39f0ec9d-10bd-485f-f634-2ed9e3845c2b"
      },
      "source": [
        "primes_list=[2,3,3,5,5]\n",
        "\n",
        "print(primes_list)\n",
        "set(primes_list)  #set的特性刪減掉重複的字"
      ],
      "execution_count": 22,
      "outputs": [
        {
          "output_type": "stream",
          "text": [
            "[2, 3, 3, 5, 5]\n"
          ],
          "name": "stdout"
        },
        {
          "output_type": "execute_result",
          "data": {
            "text/plain": [
              "{2, 3, 5}"
            ]
          },
          "metadata": {
            "tags": []
          },
          "execution_count": 22
        }
      ]
    },
    {
      "cell_type": "code",
      "metadata": {
        "id": "jjT5DaOVWsAs",
        "colab_type": "code",
        "colab": {}
      },
      "source": [
        "primes={2,3,5,7,11}\n",
        "odds={2,4,6,8,12}"
      ],
      "execution_count": 0,
      "outputs": []
    },
    {
      "cell_type": "code",
      "metadata": {
        "id": "cfSlF5A6Xb20",
        "colab_type": "code",
        "colab": {}
      },
      "source": [
        "#原生的資料結構\n",
        "#交集\n",
        "# (1)&\n",
        "primes&odds\n",
        "# (2).intersection\n",
        "primes.intersation(odds)\n",
        "#聯集\n",
        "# (1)|\n",
        "# (2).union\n",
        "#差異\n",
        "#(1) -\n",
        "print(primes - odds)\n",
        "print(odds - primes)\n",
        "#(2).differnce\n",
        "#對稱差異\n",
        "(primes - odds) | (odds - primes)\n",
        "#(1) ^\n",
        "#(2) .symmetric_difference\n"
      ],
      "execution_count": 0,
      "outputs": []
    }
  ]
}