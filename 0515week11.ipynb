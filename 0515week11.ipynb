{
  "nbformat": 4,
  "nbformat_minor": 0,
  "metadata": {
    "colab": {
      "name": "0515week11.ipynb",
      "provenance": [],
      "authorship_tag": "ABX9TyOcZdmDJPspaPP+xY8g5acg",
      "include_colab_link": true
    },
    "kernelspec": {
      "name": "python3",
      "display_name": "Python 3"
    }
  },
  "cells": [
    {
      "cell_type": "markdown",
      "metadata": {
        "id": "view-in-github",
        "colab_type": "text"
      },
      "source": [
        "<a href=\"https://colab.research.google.com/github/yung-hsiu/Introduction-to-data-science-/blob/master/0515week11.ipynb\" target=\"_parent\"><img src=\"https://colab.research.google.com/assets/colab-badge.svg\" alt=\"Open In Colab\"/></a>"
      ]
    },
    {
      "cell_type": "code",
      "metadata": {
        "id": "jZ5kz6p2Bv1T",
        "colab_type": "code",
        "colab": {
          "base_uri": "https://localhost:8080/",
          "height": 51
        },
        "outputId": "a3f03e3b-b5e4-4c77-e8db-015e3c30df43"
      },
      "source": [
        "#法一\n",
        "living_area=input(\"請輸入你所居住的地區:\")\n",
        "living_cost=None\n",
        "if living_area ==\"台北市\":\n",
        "  living_cost = 17005\n",
        "elif living_cost ==\"新北市\":\n",
        "  living_cost = 15500\n",
        "elif living_cost ==\"桃園市\":\n",
        "  living_cost = 15281\n",
        "elif living_cost ==\"台中市\":\n",
        "  living_cost = 14596\n",
        "elif living_cost ==\"台南市\":\n",
        "  living_cost = 12388\n",
        "elif living_cost ==\"高雄市\":\n",
        "  living_cost = 13099\n",
        "elif living_cost ==\"非六都縣市\":\n",
        "  living_cost = 12388\n",
        "elif living_cost ==\"金門連江縣\":\n",
        "  living_cost = 11684\n",
        "\n",
        "if living_cost is None:\n",
        "  print(\"請重新輸入居住的縣市\")\n",
        "else:\n",
        "  print(\"{}的每人每月最低生活費為{:,}\".format(living_area,living_cost))"
      ],
      "execution_count": 11,
      "outputs": [
        {
          "output_type": "stream",
          "text": [
            "請輸入你所居住的地區:台北市\n",
            "台北市的每人每月最低生活費為17,005\n"
          ],
          "name": "stdout"
        }
      ]
    },
    {
      "cell_type": "code",
      "metadata": {
        "id": "65ZsJUS2KEu0",
        "colab_type": "code",
        "colab": {
          "base_uri": "https://localhost:8080/",
          "height": 236
        },
        "outputId": "8615e1ee-9f1d-41e5-ee92-a83d3689ddf9"
      },
      "source": [
        "living_area_dict={\n",
        "    \"台北市\":17005,\n",
        "    \"新北市\":15500,\n",
        "    \"桃園市\":15281,\n",
        "    \"台中市\":14596,\n",
        "    \"台南市\":12388,\n",
        "    \"高雄市\":13099,\n",
        "    \"非六都城市\":12388,\n",
        "    \"金門連江縣\":11684\n",
        "}\n",
        "\n",
        "input(\"請輸入居住城市:\")\n"
      ],
      "execution_count": 10,
      "outputs": [
        {
          "output_type": "stream",
          "text": [
            "{'台北市': 17005, '新北市': 15500, '桃園市': 15281, '台中市': 14596, '台南市': 12388, '高雄市': 13099, '非六都城市': 12388, '金門連江縣': 11684}\n"
          ],
          "name": "stdout"
        },
        {
          "output_type": "error",
          "ename": "TypeError",
          "evalue": "ignored",
          "traceback": [
            "\u001b[0;31m---------------------------------------------------------------------------\u001b[0m",
            "\u001b[0;31mTypeError\u001b[0m                                 Traceback (most recent call last)",
            "\u001b[0;32m<ipython-input-10-8c59973a53a9>\u001b[0m in \u001b[0;36m<module>\u001b[0;34m()\u001b[0m\n\u001b[1;32m     10\u001b[0m }\n\u001b[1;32m     11\u001b[0m \u001b[0;34m\u001b[0m\u001b[0m\n\u001b[0;32m---> 12\u001b[0;31m \u001b[0minput\u001b[0m\u001b[0;34m(\u001b[0m\u001b[0;34m\"請輸入居住城市:\"\u001b[0m \u001b[0;34m(\u001b[0m\u001b[0mprint\u001b[0m\u001b[0;34m(\u001b[0m\u001b[0mliving_area_dict\u001b[0m\u001b[0;34m)\u001b[0m\u001b[0;34m)\u001b[0m\u001b[0;34m)\u001b[0m\u001b[0;34m\u001b[0m\u001b[0;34m\u001b[0m\u001b[0m\n\u001b[0m",
            "\u001b[0;31mTypeError\u001b[0m: 'str' object is not callable"
          ]
        }
      ]
    },
    {
      "cell_type": "code",
      "metadata": {
        "id": "M9QK6rUNLtY0",
        "colab_type": "code",
        "colab": {}
      },
      "source": [
        ""
      ],
      "execution_count": 0,
      "outputs": []
    }
  ]
}