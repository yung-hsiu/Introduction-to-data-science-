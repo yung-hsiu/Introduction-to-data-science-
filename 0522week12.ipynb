{
  "nbformat": 4,
  "nbformat_minor": 0,
  "metadata": {
    "colab": {
      "name": "0522week12.ipynb",
      "provenance": [],
      "authorship_tag": "ABX9TyPUi9RjEDqQaM20o6A4VaMK",
      "include_colab_link": true
    },
    "kernelspec": {
      "name": "python3",
      "display_name": "Python 3"
    }
  },
  "cells": [
    {
      "cell_type": "markdown",
      "metadata": {
        "id": "view-in-github",
        "colab_type": "text"
      },
      "source": [
        "<a href=\"https://colab.research.google.com/github/yung-hsiu/Introduction-to-data-science-/blob/master/0522week12.ipynb\" target=\"_parent\"><img src=\"https://colab.research.google.com/assets/colab-badge.svg\" alt=\"Open In Colab\"/></a>"
      ]
    },
    {
      "cell_type": "code",
      "metadata": {
        "id": "ETbDoNmlYdHq",
        "colab_type": "code",
        "colab": {
          "base_uri": "https://localhost:8080/",
          "height": 69
        },
        "outputId": "9eb95422-69fa-4b47-aa49-dabce8771e5b"
      },
      "source": [
        "\n",
        "x = int(input(\"請輸入一個正整數:\"))\n",
        "divisors = []\n",
        "for i in range(1, x+1):\n",
        "    if x % i == 0:\n",
        "        divisors.append(i)\n",
        "print(divisors)\n",
        "n_divisors = len(divisors)\n",
        "if n_divisors == 2:\n",
        "    print(\"{}是質數\".format(x))\n",
        "else:\n",
        "    print(\"{}不是質數\".format(x))"
      ],
      "execution_count": 1,
      "outputs": [
        {
          "output_type": "stream",
          "text": [
            "請輸入一個正整數:1\n",
            "[1]\n",
            "1不是質數\n"
          ],
          "name": "stdout"
        }
      ]
    },
    {
      "cell_type": "code",
      "metadata": {
        "id": "shG8-MrWZpHP",
        "colab_type": "code",
        "colab": {
          "base_uri": "https://localhost:8080/",
          "height": 52
        },
        "outputId": "639adc59-2eb2-4f0c-882c-8abd8d98b78f"
      },
      "source": [
        "x = int(input(\"請輸入一個正整數:\"))\n",
        "divisors = []\n",
        "for i in range(1, x+1):\n",
        "    if x % i == 0:\n",
        "        divisors.append(i)\n",
        "print(divisors)"
      ],
      "execution_count": 2,
      "outputs": [
        {
          "output_type": "stream",
          "text": [
            "請輸入一個正整數:59\n",
            "[1, 59]\n"
          ],
          "name": "stdout"
        }
      ]
    },
    {
      "cell_type": "code",
      "metadata": {
        "id": "iZUdZPxJZwRQ",
        "colab_type": "code",
        "colab": {
          "base_uri": "https://localhost:8080/",
          "height": 159
        },
        "outputId": "d71003a8-d37a-4ee9-f9f6-bec7f65b9e82"
      },
      "source": [
        "# random 產生 1 個隨機數\n",
        "import random\n",
        "\n",
        "random.randint(1, 1000)\n",
        "# random 產生 100 個隨機數\n",
        "random_integers = []\n",
        "for i in range(100):\n",
        "    rand_int = random.randint(1, 1000)\n",
        "    random_integers.append(rand_int)\n",
        "print(random_integers)\n",
        "print(len(random_integers))\n",
        "# 找出第一大與第一小的數字\n",
        "print(max(random_integers))\n",
        "print(min(random_integers))\n",
        "# 找出第二大與第二小的數字\n",
        "rand_int_unique = set(random_integers)\n",
        "rand_int_unique_list = list(rand_int_unique)\n",
        "print(rand_int_unique_list)\n",
        "rand_int_unique_list.sort()\n",
        "print(rand_int_unique_list[1])  # second min\n",
        "print(rand_int_unique_list[-2]) # secomd max"
      ],
      "execution_count": 3,
      "outputs": [
        {
          "output_type": "stream",
          "text": [
            "[28, 239, 801, 370, 81, 121, 400, 870, 941, 129, 623, 405, 289, 209, 752, 541, 418, 813, 403, 460, 728, 376, 118, 110, 885, 928, 85, 760, 139, 758, 502, 480, 419, 10, 708, 708, 840, 750, 21, 768, 973, 694, 482, 79, 709, 648, 168, 161, 226, 671, 835, 840, 965, 765, 337, 396, 729, 307, 543, 349, 423, 609, 697, 851, 677, 548, 490, 594, 133, 355, 695, 271, 966, 742, 163, 259, 978, 636, 46, 446, 894, 219, 964, 213, 238, 945, 313, 389, 47, 591, 259, 513, 350, 81, 768, 22, 629, 60, 975, 324]\n",
            "100\n",
            "978\n",
            "10\n",
            "[513, 10, 21, 22, 28, 541, 543, 548, 46, 47, 60, 79, 591, 81, 594, 85, 609, 110, 623, 629, 118, 121, 636, 129, 133, 648, 139, 671, 161, 163, 677, 168, 694, 695, 697, 708, 709, 209, 213, 728, 729, 219, 226, 742, 238, 239, 752, 750, 758, 760, 765, 768, 259, 271, 801, 289, 813, 307, 313, 835, 324, 840, 337, 851, 349, 350, 355, 870, 370, 885, 376, 894, 389, 396, 400, 403, 405, 928, 418, 419, 423, 941, 945, 446, 964, 965, 966, 460, 973, 975, 978, 480, 482, 490, 502]\n",
            "21\n",
            "975\n"
          ],
          "name": "stdout"
        }
      ]
    },
    {
      "cell_type": "code",
      "metadata": {
        "id": "zFS16wY1Z0Vp",
        "colab_type": "code",
        "colab": {
          "base_uri": "https://localhost:8080/",
          "height": 87
        },
        "outputId": "b3ca7fc0-97d8-4e80-e3cd-3a6d34715ca9"
      },
      "source": [
        "\n",
        "avengers = [\"The Avengers\", \"Avengers: Age of Ultron\", \"Avengers: Infinity War\", \"Avengers: Endgame\"]\n",
        "for i, av in enumerate(avengers):\n",
        "    print(\"第{}部上映的復仇者聯盟是:{}\".format(i+1, av))\n",
        "    "
      ],
      "execution_count": 4,
      "outputs": [
        {
          "output_type": "stream",
          "text": [
            "第1部上映的復仇者聯盟是:The Avengers\n",
            "第2部上映的復仇者聯盟是:Avengers: Age of Ultron\n",
            "第3部上映的復仇者聯盟是:Avengers: Infinity War\n",
            "第4部上映的復仇者聯盟是:Avengers: Endgame\n"
          ],
          "name": "stdout"
        }
      ]
    },
    {
      "cell_type": "code",
      "metadata": {
        "id": "H5jh37wNZ3cB",
        "colab_type": "code",
        "colab": {
          "base_uri": "https://localhost:8080/",
          "height": 87
        },
        "outputId": "34fc39d1-4448-4937-cf83-c4cbba562bea"
      },
      "source": [
        "years = [2012, 2015, 2018, 2019]\n",
        "for year, movie in zip(years, avengers):\n",
        "    print(\"{}上映的年份是{}\".format(movie, year))\n"
      ],
      "execution_count": 5,
      "outputs": [
        {
          "output_type": "stream",
          "text": [
            "The Avengers上映的年份是2012\n",
            "Avengers: Age of Ultron上映的年份是2015\n",
            "Avengers: Infinity War上映的年份是2018\n",
            "Avengers: Endgame上映的年份是2019\n"
          ],
          "name": "stdout"
        }
      ]
    },
    {
      "cell_type": "code",
      "metadata": {
        "id": "TY30VrvQZ6uP",
        "colab_type": "code",
        "colab": {}
      },
      "source": [
        ""
      ],
      "execution_count": 0,
      "outputs": []
    }
  ]
}